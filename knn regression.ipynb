{
 "cells": [
  {
   "cell_type": "code",
   "execution_count": 236,
   "id": "26986fd2",
   "metadata": {},
   "outputs": [],
   "source": [
    "import numpy as np\n",
    "import pandas as pd\n",
    "\n",
    "import matplotlib.pyplot as plt\n",
    "import seaborn as sns\n",
    "\n",
    "from sklearn.preprocessing import LabelEncoder, OneHotEncoder, MinMaxScaler, StandardScaler\n",
    "from sklearn.model_selection import train_test_split\n",
    "\n",
    "from sklearn.neighbors import KNeighborsRegressor\n",
    "from sklearn.metrics import r2_score, mean_squared_error, mean_absolute_error\n",
    "\n",
    "%matplotlib inline"
   ]
  },
  {
   "cell_type": "code",
   "execution_count": 237,
   "id": "308ba174",
   "metadata": {},
   "outputs": [],
   "source": [
    "from sklearn.impute import SimpleImputer\n",
    "from numpy import isnan"
   ]
  },
  {
   "cell_type": "code",
   "execution_count": 329,
   "id": "05c8cbd7",
   "metadata": {},
   "outputs": [],
   "source": [
    "from sklearn.model_selection import GridSearchCV, RandomizedSearchCV"
   ]
  },
  {
   "cell_type": "code",
   "execution_count": 238,
   "id": "1813d2fc",
   "metadata": {},
   "outputs": [],
   "source": [
    "df = pd.read_csv('Train.csv')"
   ]
  },
  {
   "cell_type": "code",
   "execution_count": 239,
   "id": "a46ecfe7",
   "metadata": {},
   "outputs": [
    {
     "data": {
      "text/html": [
       "<div>\n",
       "<style scoped>\n",
       "    .dataframe tbody tr th:only-of-type {\n",
       "        vertical-align: middle;\n",
       "    }\n",
       "\n",
       "    .dataframe tbody tr th {\n",
       "        vertical-align: top;\n",
       "    }\n",
       "\n",
       "    .dataframe thead th {\n",
       "        text-align: right;\n",
       "    }\n",
       "</style>\n",
       "<table border=\"1\" class=\"dataframe\">\n",
       "  <thead>\n",
       "    <tr style=\"text-align: right;\">\n",
       "      <th></th>\n",
       "      <th>Item_Identifier</th>\n",
       "      <th>Item_Weight</th>\n",
       "      <th>Item_Fat_Content</th>\n",
       "      <th>Item_Visibility</th>\n",
       "      <th>Item_Type</th>\n",
       "      <th>Item_MRP</th>\n",
       "      <th>Outlet_Identifier</th>\n",
       "      <th>Outlet_Establishment_Year</th>\n",
       "      <th>Outlet_Size</th>\n",
       "      <th>Outlet_Location_Type</th>\n",
       "      <th>Outlet_Type</th>\n",
       "      <th>Item_Outlet_Sales</th>\n",
       "    </tr>\n",
       "  </thead>\n",
       "  <tbody>\n",
       "    <tr>\n",
       "      <th>0</th>\n",
       "      <td>FDA15</td>\n",
       "      <td>9.30</td>\n",
       "      <td>Low Fat</td>\n",
       "      <td>0.016047</td>\n",
       "      <td>Dairy</td>\n",
       "      <td>249.8092</td>\n",
       "      <td>OUT049</td>\n",
       "      <td>1999</td>\n",
       "      <td>Medium</td>\n",
       "      <td>Tier 1</td>\n",
       "      <td>Supermarket Type1</td>\n",
       "      <td>3735.1380</td>\n",
       "    </tr>\n",
       "    <tr>\n",
       "      <th>1</th>\n",
       "      <td>DRC01</td>\n",
       "      <td>5.92</td>\n",
       "      <td>Regular</td>\n",
       "      <td>0.019278</td>\n",
       "      <td>Soft Drinks</td>\n",
       "      <td>48.2692</td>\n",
       "      <td>OUT018</td>\n",
       "      <td>2009</td>\n",
       "      <td>Medium</td>\n",
       "      <td>Tier 3</td>\n",
       "      <td>Supermarket Type2</td>\n",
       "      <td>443.4228</td>\n",
       "    </tr>\n",
       "    <tr>\n",
       "      <th>2</th>\n",
       "      <td>FDN15</td>\n",
       "      <td>17.50</td>\n",
       "      <td>Low Fat</td>\n",
       "      <td>0.016760</td>\n",
       "      <td>Meat</td>\n",
       "      <td>141.6180</td>\n",
       "      <td>OUT049</td>\n",
       "      <td>1999</td>\n",
       "      <td>Medium</td>\n",
       "      <td>Tier 1</td>\n",
       "      <td>Supermarket Type1</td>\n",
       "      <td>2097.2700</td>\n",
       "    </tr>\n",
       "    <tr>\n",
       "      <th>3</th>\n",
       "      <td>FDX07</td>\n",
       "      <td>19.20</td>\n",
       "      <td>Regular</td>\n",
       "      <td>0.000000</td>\n",
       "      <td>Fruits and Vegetables</td>\n",
       "      <td>182.0950</td>\n",
       "      <td>OUT010</td>\n",
       "      <td>1998</td>\n",
       "      <td>NaN</td>\n",
       "      <td>Tier 3</td>\n",
       "      <td>Grocery Store</td>\n",
       "      <td>732.3800</td>\n",
       "    </tr>\n",
       "    <tr>\n",
       "      <th>4</th>\n",
       "      <td>NCD19</td>\n",
       "      <td>8.93</td>\n",
       "      <td>Low Fat</td>\n",
       "      <td>0.000000</td>\n",
       "      <td>Household</td>\n",
       "      <td>53.8614</td>\n",
       "      <td>OUT013</td>\n",
       "      <td>1987</td>\n",
       "      <td>High</td>\n",
       "      <td>Tier 3</td>\n",
       "      <td>Supermarket Type1</td>\n",
       "      <td>994.7052</td>\n",
       "    </tr>\n",
       "  </tbody>\n",
       "</table>\n",
       "</div>"
      ],
      "text/plain": [
       "  Item_Identifier  Item_Weight Item_Fat_Content  Item_Visibility  \\\n",
       "0           FDA15         9.30          Low Fat         0.016047   \n",
       "1           DRC01         5.92          Regular         0.019278   \n",
       "2           FDN15        17.50          Low Fat         0.016760   \n",
       "3           FDX07        19.20          Regular         0.000000   \n",
       "4           NCD19         8.93          Low Fat         0.000000   \n",
       "\n",
       "               Item_Type  Item_MRP Outlet_Identifier  \\\n",
       "0                  Dairy  249.8092            OUT049   \n",
       "1            Soft Drinks   48.2692            OUT018   \n",
       "2                   Meat  141.6180            OUT049   \n",
       "3  Fruits and Vegetables  182.0950            OUT010   \n",
       "4              Household   53.8614            OUT013   \n",
       "\n",
       "   Outlet_Establishment_Year Outlet_Size Outlet_Location_Type  \\\n",
       "0                       1999      Medium               Tier 1   \n",
       "1                       2009      Medium               Tier 3   \n",
       "2                       1999      Medium               Tier 1   \n",
       "3                       1998         NaN               Tier 3   \n",
       "4                       1987        High               Tier 3   \n",
       "\n",
       "         Outlet_Type  Item_Outlet_Sales  \n",
       "0  Supermarket Type1          3735.1380  \n",
       "1  Supermarket Type2           443.4228  \n",
       "2  Supermarket Type1          2097.2700  \n",
       "3      Grocery Store           732.3800  \n",
       "4  Supermarket Type1           994.7052  "
      ]
     },
     "execution_count": 239,
     "metadata": {},
     "output_type": "execute_result"
    }
   ],
   "source": [
    "df.head()"
   ]
  },
  {
   "cell_type": "code",
   "execution_count": 240,
   "id": "95feeb6b",
   "metadata": {},
   "outputs": [
    {
     "name": "stdout",
     "output_type": "stream",
     "text": [
      "<class 'pandas.core.frame.DataFrame'>\n",
      "RangeIndex: 8523 entries, 0 to 8522\n",
      "Data columns (total 12 columns):\n",
      " #   Column                     Non-Null Count  Dtype  \n",
      "---  ------                     --------------  -----  \n",
      " 0   Item_Identifier            8523 non-null   object \n",
      " 1   Item_Weight                7060 non-null   float64\n",
      " 2   Item_Fat_Content           8523 non-null   object \n",
      " 3   Item_Visibility            8523 non-null   float64\n",
      " 4   Item_Type                  8523 non-null   object \n",
      " 5   Item_MRP                   8523 non-null   float64\n",
      " 6   Outlet_Identifier          8523 non-null   object \n",
      " 7   Outlet_Establishment_Year  8523 non-null   int64  \n",
      " 8   Outlet_Size                6113 non-null   object \n",
      " 9   Outlet_Location_Type       8523 non-null   object \n",
      " 10  Outlet_Type                8523 non-null   object \n",
      " 11  Item_Outlet_Sales          8523 non-null   float64\n",
      "dtypes: float64(4), int64(1), object(7)\n",
      "memory usage: 799.2+ KB\n"
     ]
    }
   ],
   "source": [
    "df.info()"
   ]
  },
  {
   "cell_type": "code",
   "execution_count": 241,
   "id": "66de40e3",
   "metadata": {},
   "outputs": [
    {
     "data": {
      "text/plain": [
       "RangeIndex(start=0, stop=8523, step=1)"
      ]
     },
     "execution_count": 241,
     "metadata": {},
     "output_type": "execute_result"
    }
   ],
   "source": [
    "df.index"
   ]
  },
  {
   "cell_type": "code",
   "execution_count": 242,
   "id": "a5ce0d97",
   "metadata": {},
   "outputs": [
    {
     "data": {
      "text/plain": [
       "Index(['Item_Identifier', 'Item_Weight', 'Item_Fat_Content', 'Item_Visibility',\n",
       "       'Item_Type', 'Item_MRP', 'Outlet_Identifier',\n",
       "       'Outlet_Establishment_Year', 'Outlet_Size', 'Outlet_Location_Type',\n",
       "       'Outlet_Type', 'Item_Outlet_Sales'],\n",
       "      dtype='object')"
      ]
     },
     "execution_count": 242,
     "metadata": {},
     "output_type": "execute_result"
    }
   ],
   "source": [
    "df.columns"
   ]
  },
  {
   "cell_type": "code",
   "execution_count": 243,
   "id": "57419624",
   "metadata": {},
   "outputs": [
    {
     "data": {
      "text/plain": [
       "array([['FDA15', 9.3, 'Low Fat', ..., 'Tier 1', 'Supermarket Type1',\n",
       "        3735.138],\n",
       "       ['DRC01', 5.92, 'Regular', ..., 'Tier 3', 'Supermarket Type2',\n",
       "        443.4228],\n",
       "       ['FDN15', 17.5, 'Low Fat', ..., 'Tier 1', 'Supermarket Type1',\n",
       "        2097.27],\n",
       "       ...,\n",
       "       ['NCJ29', 10.6, 'Low Fat', ..., 'Tier 2', 'Supermarket Type1',\n",
       "        1193.1136],\n",
       "       ['FDN46', 7.21, 'Regular', ..., 'Tier 3', 'Supermarket Type2',\n",
       "        1845.5976],\n",
       "       ['DRG01', 14.8, 'Low Fat', ..., 'Tier 1', 'Supermarket Type1',\n",
       "        765.67]], dtype=object)"
      ]
     },
     "execution_count": 243,
     "metadata": {},
     "output_type": "execute_result"
    }
   ],
   "source": [
    "df.values"
   ]
  },
  {
   "cell_type": "code",
   "execution_count": 244,
   "id": "9097b34c",
   "metadata": {},
   "outputs": [
    {
     "data": {
      "text/html": [
       "<div>\n",
       "<style scoped>\n",
       "    .dataframe tbody tr th:only-of-type {\n",
       "        vertical-align: middle;\n",
       "    }\n",
       "\n",
       "    .dataframe tbody tr th {\n",
       "        vertical-align: top;\n",
       "    }\n",
       "\n",
       "    .dataframe thead th {\n",
       "        text-align: right;\n",
       "    }\n",
       "</style>\n",
       "<table border=\"1\" class=\"dataframe\">\n",
       "  <thead>\n",
       "    <tr style=\"text-align: right;\">\n",
       "      <th></th>\n",
       "      <th>Item_Weight</th>\n",
       "      <th>Item_Visibility</th>\n",
       "      <th>Item_MRP</th>\n",
       "      <th>Outlet_Establishment_Year</th>\n",
       "      <th>Item_Outlet_Sales</th>\n",
       "    </tr>\n",
       "  </thead>\n",
       "  <tbody>\n",
       "    <tr>\n",
       "      <th>count</th>\n",
       "      <td>7060.000000</td>\n",
       "      <td>8523.000000</td>\n",
       "      <td>8523.000000</td>\n",
       "      <td>8523.000000</td>\n",
       "      <td>8523.000000</td>\n",
       "    </tr>\n",
       "    <tr>\n",
       "      <th>mean</th>\n",
       "      <td>12.857645</td>\n",
       "      <td>0.066132</td>\n",
       "      <td>140.992782</td>\n",
       "      <td>1997.831867</td>\n",
       "      <td>2181.288914</td>\n",
       "    </tr>\n",
       "    <tr>\n",
       "      <th>std</th>\n",
       "      <td>4.643456</td>\n",
       "      <td>0.051598</td>\n",
       "      <td>62.275067</td>\n",
       "      <td>8.371760</td>\n",
       "      <td>1706.499616</td>\n",
       "    </tr>\n",
       "    <tr>\n",
       "      <th>min</th>\n",
       "      <td>4.555000</td>\n",
       "      <td>0.000000</td>\n",
       "      <td>31.290000</td>\n",
       "      <td>1985.000000</td>\n",
       "      <td>33.290000</td>\n",
       "    </tr>\n",
       "    <tr>\n",
       "      <th>25%</th>\n",
       "      <td>8.773750</td>\n",
       "      <td>0.026989</td>\n",
       "      <td>93.826500</td>\n",
       "      <td>1987.000000</td>\n",
       "      <td>834.247400</td>\n",
       "    </tr>\n",
       "    <tr>\n",
       "      <th>50%</th>\n",
       "      <td>12.600000</td>\n",
       "      <td>0.053931</td>\n",
       "      <td>143.012800</td>\n",
       "      <td>1999.000000</td>\n",
       "      <td>1794.331000</td>\n",
       "    </tr>\n",
       "    <tr>\n",
       "      <th>75%</th>\n",
       "      <td>16.850000</td>\n",
       "      <td>0.094585</td>\n",
       "      <td>185.643700</td>\n",
       "      <td>2004.000000</td>\n",
       "      <td>3101.296400</td>\n",
       "    </tr>\n",
       "    <tr>\n",
       "      <th>max</th>\n",
       "      <td>21.350000</td>\n",
       "      <td>0.328391</td>\n",
       "      <td>266.888400</td>\n",
       "      <td>2009.000000</td>\n",
       "      <td>13086.964800</td>\n",
       "    </tr>\n",
       "  </tbody>\n",
       "</table>\n",
       "</div>"
      ],
      "text/plain": [
       "       Item_Weight  Item_Visibility     Item_MRP  Outlet_Establishment_Year  \\\n",
       "count  7060.000000      8523.000000  8523.000000                8523.000000   \n",
       "mean     12.857645         0.066132   140.992782                1997.831867   \n",
       "std       4.643456         0.051598    62.275067                   8.371760   \n",
       "min       4.555000         0.000000    31.290000                1985.000000   \n",
       "25%       8.773750         0.026989    93.826500                1987.000000   \n",
       "50%      12.600000         0.053931   143.012800                1999.000000   \n",
       "75%      16.850000         0.094585   185.643700                2004.000000   \n",
       "max      21.350000         0.328391   266.888400                2009.000000   \n",
       "\n",
       "       Item_Outlet_Sales  \n",
       "count        8523.000000  \n",
       "mean         2181.288914  \n",
       "std          1706.499616  \n",
       "min            33.290000  \n",
       "25%           834.247400  \n",
       "50%          1794.331000  \n",
       "75%          3101.296400  \n",
       "max         13086.964800  "
      ]
     },
     "execution_count": 244,
     "metadata": {},
     "output_type": "execute_result"
    }
   ],
   "source": [
    "df.describe()"
   ]
  },
  {
   "cell_type": "code",
   "execution_count": 245,
   "id": "40c28320",
   "metadata": {},
   "outputs": [
    {
     "data": {
      "text/html": [
       "<div>\n",
       "<style scoped>\n",
       "    .dataframe tbody tr th:only-of-type {\n",
       "        vertical-align: middle;\n",
       "    }\n",
       "\n",
       "    .dataframe tbody tr th {\n",
       "        vertical-align: top;\n",
       "    }\n",
       "\n",
       "    .dataframe thead th {\n",
       "        text-align: right;\n",
       "    }\n",
       "</style>\n",
       "<table border=\"1\" class=\"dataframe\">\n",
       "  <thead>\n",
       "    <tr style=\"text-align: right;\">\n",
       "      <th></th>\n",
       "      <th>Item_Identifier</th>\n",
       "      <th>Item_Weight</th>\n",
       "      <th>Item_Fat_Content</th>\n",
       "      <th>Item_Visibility</th>\n",
       "      <th>Item_Type</th>\n",
       "      <th>Item_MRP</th>\n",
       "      <th>Outlet_Identifier</th>\n",
       "      <th>Outlet_Establishment_Year</th>\n",
       "      <th>Outlet_Size</th>\n",
       "      <th>Outlet_Location_Type</th>\n",
       "      <th>Outlet_Type</th>\n",
       "      <th>Item_Outlet_Sales</th>\n",
       "    </tr>\n",
       "  </thead>\n",
       "  <tbody>\n",
       "    <tr>\n",
       "      <th>count</th>\n",
       "      <td>8523</td>\n",
       "      <td>7060.000000</td>\n",
       "      <td>8523</td>\n",
       "      <td>8523.000000</td>\n",
       "      <td>8523</td>\n",
       "      <td>8523.000000</td>\n",
       "      <td>8523</td>\n",
       "      <td>8523.000000</td>\n",
       "      <td>6113</td>\n",
       "      <td>8523</td>\n",
       "      <td>8523</td>\n",
       "      <td>8523.000000</td>\n",
       "    </tr>\n",
       "    <tr>\n",
       "      <th>unique</th>\n",
       "      <td>1559</td>\n",
       "      <td>NaN</td>\n",
       "      <td>5</td>\n",
       "      <td>NaN</td>\n",
       "      <td>16</td>\n",
       "      <td>NaN</td>\n",
       "      <td>10</td>\n",
       "      <td>NaN</td>\n",
       "      <td>3</td>\n",
       "      <td>3</td>\n",
       "      <td>4</td>\n",
       "      <td>NaN</td>\n",
       "    </tr>\n",
       "    <tr>\n",
       "      <th>top</th>\n",
       "      <td>FDW13</td>\n",
       "      <td>NaN</td>\n",
       "      <td>Low Fat</td>\n",
       "      <td>NaN</td>\n",
       "      <td>Fruits and Vegetables</td>\n",
       "      <td>NaN</td>\n",
       "      <td>OUT027</td>\n",
       "      <td>NaN</td>\n",
       "      <td>Medium</td>\n",
       "      <td>Tier 3</td>\n",
       "      <td>Supermarket Type1</td>\n",
       "      <td>NaN</td>\n",
       "    </tr>\n",
       "    <tr>\n",
       "      <th>freq</th>\n",
       "      <td>10</td>\n",
       "      <td>NaN</td>\n",
       "      <td>5089</td>\n",
       "      <td>NaN</td>\n",
       "      <td>1232</td>\n",
       "      <td>NaN</td>\n",
       "      <td>935</td>\n",
       "      <td>NaN</td>\n",
       "      <td>2793</td>\n",
       "      <td>3350</td>\n",
       "      <td>5577</td>\n",
       "      <td>NaN</td>\n",
       "    </tr>\n",
       "    <tr>\n",
       "      <th>mean</th>\n",
       "      <td>NaN</td>\n",
       "      <td>12.857645</td>\n",
       "      <td>NaN</td>\n",
       "      <td>0.066132</td>\n",
       "      <td>NaN</td>\n",
       "      <td>140.992782</td>\n",
       "      <td>NaN</td>\n",
       "      <td>1997.831867</td>\n",
       "      <td>NaN</td>\n",
       "      <td>NaN</td>\n",
       "      <td>NaN</td>\n",
       "      <td>2181.288914</td>\n",
       "    </tr>\n",
       "    <tr>\n",
       "      <th>std</th>\n",
       "      <td>NaN</td>\n",
       "      <td>4.643456</td>\n",
       "      <td>NaN</td>\n",
       "      <td>0.051598</td>\n",
       "      <td>NaN</td>\n",
       "      <td>62.275067</td>\n",
       "      <td>NaN</td>\n",
       "      <td>8.371760</td>\n",
       "      <td>NaN</td>\n",
       "      <td>NaN</td>\n",
       "      <td>NaN</td>\n",
       "      <td>1706.499616</td>\n",
       "    </tr>\n",
       "    <tr>\n",
       "      <th>min</th>\n",
       "      <td>NaN</td>\n",
       "      <td>4.555000</td>\n",
       "      <td>NaN</td>\n",
       "      <td>0.000000</td>\n",
       "      <td>NaN</td>\n",
       "      <td>31.290000</td>\n",
       "      <td>NaN</td>\n",
       "      <td>1985.000000</td>\n",
       "      <td>NaN</td>\n",
       "      <td>NaN</td>\n",
       "      <td>NaN</td>\n",
       "      <td>33.290000</td>\n",
       "    </tr>\n",
       "    <tr>\n",
       "      <th>25%</th>\n",
       "      <td>NaN</td>\n",
       "      <td>8.773750</td>\n",
       "      <td>NaN</td>\n",
       "      <td>0.026989</td>\n",
       "      <td>NaN</td>\n",
       "      <td>93.826500</td>\n",
       "      <td>NaN</td>\n",
       "      <td>1987.000000</td>\n",
       "      <td>NaN</td>\n",
       "      <td>NaN</td>\n",
       "      <td>NaN</td>\n",
       "      <td>834.247400</td>\n",
       "    </tr>\n",
       "    <tr>\n",
       "      <th>50%</th>\n",
       "      <td>NaN</td>\n",
       "      <td>12.600000</td>\n",
       "      <td>NaN</td>\n",
       "      <td>0.053931</td>\n",
       "      <td>NaN</td>\n",
       "      <td>143.012800</td>\n",
       "      <td>NaN</td>\n",
       "      <td>1999.000000</td>\n",
       "      <td>NaN</td>\n",
       "      <td>NaN</td>\n",
       "      <td>NaN</td>\n",
       "      <td>1794.331000</td>\n",
       "    </tr>\n",
       "    <tr>\n",
       "      <th>75%</th>\n",
       "      <td>NaN</td>\n",
       "      <td>16.850000</td>\n",
       "      <td>NaN</td>\n",
       "      <td>0.094585</td>\n",
       "      <td>NaN</td>\n",
       "      <td>185.643700</td>\n",
       "      <td>NaN</td>\n",
       "      <td>2004.000000</td>\n",
       "      <td>NaN</td>\n",
       "      <td>NaN</td>\n",
       "      <td>NaN</td>\n",
       "      <td>3101.296400</td>\n",
       "    </tr>\n",
       "    <tr>\n",
       "      <th>max</th>\n",
       "      <td>NaN</td>\n",
       "      <td>21.350000</td>\n",
       "      <td>NaN</td>\n",
       "      <td>0.328391</td>\n",
       "      <td>NaN</td>\n",
       "      <td>266.888400</td>\n",
       "      <td>NaN</td>\n",
       "      <td>2009.000000</td>\n",
       "      <td>NaN</td>\n",
       "      <td>NaN</td>\n",
       "      <td>NaN</td>\n",
       "      <td>13086.964800</td>\n",
       "    </tr>\n",
       "  </tbody>\n",
       "</table>\n",
       "</div>"
      ],
      "text/plain": [
       "       Item_Identifier  Item_Weight Item_Fat_Content  Item_Visibility  \\\n",
       "count             8523  7060.000000             8523      8523.000000   \n",
       "unique            1559          NaN                5              NaN   \n",
       "top              FDW13          NaN          Low Fat              NaN   \n",
       "freq                10          NaN             5089              NaN   \n",
       "mean               NaN    12.857645              NaN         0.066132   \n",
       "std                NaN     4.643456              NaN         0.051598   \n",
       "min                NaN     4.555000              NaN         0.000000   \n",
       "25%                NaN     8.773750              NaN         0.026989   \n",
       "50%                NaN    12.600000              NaN         0.053931   \n",
       "75%                NaN    16.850000              NaN         0.094585   \n",
       "max                NaN    21.350000              NaN         0.328391   \n",
       "\n",
       "                    Item_Type     Item_MRP Outlet_Identifier  \\\n",
       "count                    8523  8523.000000              8523   \n",
       "unique                     16          NaN                10   \n",
       "top     Fruits and Vegetables          NaN            OUT027   \n",
       "freq                     1232          NaN               935   \n",
       "mean                      NaN   140.992782               NaN   \n",
       "std                       NaN    62.275067               NaN   \n",
       "min                       NaN    31.290000               NaN   \n",
       "25%                       NaN    93.826500               NaN   \n",
       "50%                       NaN   143.012800               NaN   \n",
       "75%                       NaN   185.643700               NaN   \n",
       "max                       NaN   266.888400               NaN   \n",
       "\n",
       "        Outlet_Establishment_Year Outlet_Size Outlet_Location_Type  \\\n",
       "count                 8523.000000        6113                 8523   \n",
       "unique                        NaN           3                    3   \n",
       "top                           NaN      Medium               Tier 3   \n",
       "freq                          NaN        2793                 3350   \n",
       "mean                  1997.831867         NaN                  NaN   \n",
       "std                      8.371760         NaN                  NaN   \n",
       "min                   1985.000000         NaN                  NaN   \n",
       "25%                   1987.000000         NaN                  NaN   \n",
       "50%                   1999.000000         NaN                  NaN   \n",
       "75%                   2004.000000         NaN                  NaN   \n",
       "max                   2009.000000         NaN                  NaN   \n",
       "\n",
       "              Outlet_Type  Item_Outlet_Sales  \n",
       "count                8523        8523.000000  \n",
       "unique                  4                NaN  \n",
       "top     Supermarket Type1                NaN  \n",
       "freq                 5577                NaN  \n",
       "mean                  NaN        2181.288914  \n",
       "std                   NaN        1706.499616  \n",
       "min                   NaN          33.290000  \n",
       "25%                   NaN         834.247400  \n",
       "50%                   NaN        1794.331000  \n",
       "75%                   NaN        3101.296400  \n",
       "max                   NaN       13086.964800  "
      ]
     },
     "execution_count": 245,
     "metadata": {},
     "output_type": "execute_result"
    }
   ],
   "source": [
    "df.describe(include='all')"
   ]
  },
  {
   "cell_type": "code",
   "execution_count": 246,
   "id": "31bf753d",
   "metadata": {},
   "outputs": [
    {
     "data": {
      "text/plain": [
       "Item_Identifier                 0\n",
       "Item_Weight                  1463\n",
       "Item_Fat_Content                0\n",
       "Item_Visibility                 0\n",
       "Item_Type                       0\n",
       "Item_MRP                        0\n",
       "Outlet_Identifier               0\n",
       "Outlet_Establishment_Year       0\n",
       "Outlet_Size                  2410\n",
       "Outlet_Location_Type            0\n",
       "Outlet_Type                     0\n",
       "Item_Outlet_Sales               0\n",
       "dtype: int64"
      ]
     },
     "execution_count": 246,
     "metadata": {},
     "output_type": "execute_result"
    }
   ],
   "source": [
    "df.isna().sum()"
   ]
  },
  {
   "cell_type": "code",
   "execution_count": 247,
   "id": "dfaa119e",
   "metadata": {},
   "outputs": [
    {
     "data": {
      "text/plain": [
       "Item_Identifier              1559\n",
       "Item_Weight                   415\n",
       "Item_Fat_Content                5\n",
       "Item_Visibility              7880\n",
       "Item_Type                      16\n",
       "Item_MRP                     5938\n",
       "Outlet_Identifier              10\n",
       "Outlet_Establishment_Year       9\n",
       "Outlet_Size                     3\n",
       "Outlet_Location_Type            3\n",
       "Outlet_Type                     4\n",
       "Item_Outlet_Sales            3493\n",
       "dtype: int64"
      ]
     },
     "execution_count": 247,
     "metadata": {},
     "output_type": "execute_result"
    }
   ],
   "source": [
    "df.nunique()"
   ]
  },
  {
   "cell_type": "code",
   "execution_count": 248,
   "id": "16c54d9f",
   "metadata": {
    "scrolled": true
   },
   "outputs": [
    {
     "data": {
      "text/plain": [
       "415"
      ]
     },
     "execution_count": 248,
     "metadata": {},
     "output_type": "execute_result"
    }
   ],
   "source": [
    "df['Item_Weight'].nunique()"
   ]
  },
  {
   "cell_type": "code",
   "execution_count": 249,
   "id": "02c34d41",
   "metadata": {},
   "outputs": [
    {
     "data": {
      "text/plain": [
       "1463"
      ]
     },
     "execution_count": 249,
     "metadata": {},
     "output_type": "execute_result"
    }
   ],
   "source": [
    "df['Item_Weight'].isna().sum()"
   ]
  },
  {
   "cell_type": "code",
   "execution_count": 250,
   "id": "011908fe",
   "metadata": {},
   "outputs": [
    {
     "data": {
      "text/plain": [
       "0     9.30\n",
       "1     5.92\n",
       "2    17.50\n",
       "3    19.20\n",
       "4     8.93\n",
       "Name: Item_Weight, dtype: float64"
      ]
     },
     "execution_count": 250,
     "metadata": {},
     "output_type": "execute_result"
    }
   ],
   "source": [
    "df['Item_Weight'].head()"
   ]
  },
  {
   "cell_type": "code",
   "execution_count": 251,
   "id": "3ad5a0d1",
   "metadata": {},
   "outputs": [],
   "source": [
    "df['Item_Weight'].fillna(12.857645,inplace=True)"
   ]
  },
  {
   "cell_type": "code",
   "execution_count": 252,
   "id": "8dc87cdb",
   "metadata": {
    "scrolled": true
   },
   "outputs": [
    {
     "data": {
      "text/plain": [
       "0"
      ]
     },
     "execution_count": 252,
     "metadata": {},
     "output_type": "execute_result"
    }
   ],
   "source": [
    "df['Item_Weight'].isna().sum()"
   ]
  },
  {
   "cell_type": "code",
   "execution_count": 253,
   "id": "39d6bca4",
   "metadata": {},
   "outputs": [
    {
     "data": {
      "text/plain": [
       "0     9.30\n",
       "1     5.92\n",
       "2    17.50\n",
       "3    19.20\n",
       "4     8.93\n",
       "Name: Item_Weight, dtype: float64"
      ]
     },
     "execution_count": 253,
     "metadata": {},
     "output_type": "execute_result"
    }
   ],
   "source": [
    "df['Item_Weight'].head()"
   ]
  },
  {
   "cell_type": "code",
   "execution_count": 254,
   "id": "56d9170e",
   "metadata": {},
   "outputs": [
    {
     "data": {
      "text/plain": [
       "2410"
      ]
     },
     "execution_count": 254,
     "metadata": {},
     "output_type": "execute_result"
    }
   ],
   "source": [
    "df['Outlet_Size'].isna().sum()"
   ]
  },
  {
   "cell_type": "code",
   "execution_count": 255,
   "id": "bd9d73af",
   "metadata": {},
   "outputs": [
    {
     "data": {
      "text/plain": [
       "3"
      ]
     },
     "execution_count": 255,
     "metadata": {},
     "output_type": "execute_result"
    }
   ],
   "source": [
    "df['Outlet_Size'].nunique()"
   ]
  },
  {
   "cell_type": "code",
   "execution_count": 256,
   "id": "67aff850",
   "metadata": {},
   "outputs": [
    {
     "data": {
      "text/plain": [
       "Medium    2793\n",
       "Small     2388\n",
       "High       932\n",
       "Name: Outlet_Size, dtype: int64"
      ]
     },
     "execution_count": 256,
     "metadata": {},
     "output_type": "execute_result"
    }
   ],
   "source": [
    "df['Outlet_Size'].value_counts()"
   ]
  },
  {
   "cell_type": "code",
   "execution_count": 257,
   "id": "d89f0023",
   "metadata": {},
   "outputs": [],
   "source": [
    "df['Outlet_Size'] = df['Outlet_Size'].replace(to_replace = 'Small', value = 0)\n",
    "df['Outlet_Size'] = df['Outlet_Size'].replace(to_replace = 'Medium', value = 1)\n",
    "df['Outlet_Size'] = df['Outlet_Size'].replace(to_replace = 'High', value = 2)"
   ]
  },
  {
   "cell_type": "code",
   "execution_count": 258,
   "id": "20da5678",
   "metadata": {},
   "outputs": [
    {
     "data": {
      "text/plain": [
       "0    1.0\n",
       "1    1.0\n",
       "2    1.0\n",
       "3    NaN\n",
       "4    2.0\n",
       "Name: Outlet_Size, dtype: float64"
      ]
     },
     "execution_count": 258,
     "metadata": {},
     "output_type": "execute_result"
    }
   ],
   "source": [
    "df['Outlet_Size'].head()"
   ]
  },
  {
   "cell_type": "code",
   "execution_count": 259,
   "id": "c62f967c",
   "metadata": {},
   "outputs": [
    {
     "data": {
      "text/plain": [
       "1.0    2793\n",
       "0.0    2388\n",
       "2.0     932\n",
       "Name: Outlet_Size, dtype: int64"
      ]
     },
     "execution_count": 259,
     "metadata": {},
     "output_type": "execute_result"
    }
   ],
   "source": [
    "df['Outlet_Size'].value_counts()"
   ]
  },
  {
   "cell_type": "code",
   "execution_count": 260,
   "id": "8afb1dec",
   "metadata": {},
   "outputs": [],
   "source": [
    "df['Outlet_Size'].fillna(1.0,inplace=True)"
   ]
  },
  {
   "cell_type": "code",
   "execution_count": 261,
   "id": "8a40aeab",
   "metadata": {
    "scrolled": true
   },
   "outputs": [
    {
     "data": {
      "text/plain": [
       "0    1.0\n",
       "1    1.0\n",
       "2    1.0\n",
       "3    1.0\n",
       "4    2.0\n",
       "Name: Outlet_Size, dtype: float64"
      ]
     },
     "execution_count": 261,
     "metadata": {},
     "output_type": "execute_result"
    }
   ],
   "source": [
    "df['Outlet_Size'].head()"
   ]
  },
  {
   "cell_type": "code",
   "execution_count": 262,
   "id": "27cacc53",
   "metadata": {},
   "outputs": [
    {
     "name": "stdout",
     "output_type": "stream",
     "text": [
      "<class 'pandas.core.frame.DataFrame'>\n",
      "RangeIndex: 8523 entries, 0 to 8522\n",
      "Data columns (total 12 columns):\n",
      " #   Column                     Non-Null Count  Dtype  \n",
      "---  ------                     --------------  -----  \n",
      " 0   Item_Identifier            8523 non-null   object \n",
      " 1   Item_Weight                8523 non-null   float64\n",
      " 2   Item_Fat_Content           8523 non-null   object \n",
      " 3   Item_Visibility            8523 non-null   float64\n",
      " 4   Item_Type                  8523 non-null   object \n",
      " 5   Item_MRP                   8523 non-null   float64\n",
      " 6   Outlet_Identifier          8523 non-null   object \n",
      " 7   Outlet_Establishment_Year  8523 non-null   int64  \n",
      " 8   Outlet_Size                8523 non-null   float64\n",
      " 9   Outlet_Location_Type       8523 non-null   object \n",
      " 10  Outlet_Type                8523 non-null   object \n",
      " 11  Item_Outlet_Sales          8523 non-null   float64\n",
      "dtypes: float64(5), int64(1), object(6)\n",
      "memory usage: 799.2+ KB\n"
     ]
    }
   ],
   "source": [
    "df.info()"
   ]
  },
  {
   "cell_type": "code",
   "execution_count": 263,
   "id": "fbf6fff7",
   "metadata": {},
   "outputs": [
    {
     "data": {
      "text/plain": [
       "0    FDA15\n",
       "1    DRC01\n",
       "2    FDN15\n",
       "3    FDX07\n",
       "4    NCD19\n",
       "Name: Item_Identifier, dtype: object"
      ]
     },
     "execution_count": 263,
     "metadata": {},
     "output_type": "execute_result"
    }
   ],
   "source": [
    "df['Item_Identifier'].head()"
   ]
  },
  {
   "cell_type": "code",
   "execution_count": 264,
   "id": "d7dd6203",
   "metadata": {},
   "outputs": [
    {
     "data": {
      "text/plain": [
       "1559"
      ]
     },
     "execution_count": 264,
     "metadata": {},
     "output_type": "execute_result"
    }
   ],
   "source": [
    "df['Item_Identifier'].nunique()"
   ]
  },
  {
   "cell_type": "code",
   "execution_count": 265,
   "id": "3b6ed377",
   "metadata": {},
   "outputs": [
    {
     "data": {
      "text/plain": [
       "5"
      ]
     },
     "execution_count": 265,
     "metadata": {},
     "output_type": "execute_result"
    }
   ],
   "source": [
    "df['Item_Fat_Content'].nunique()"
   ]
  },
  {
   "cell_type": "code",
   "execution_count": 266,
   "id": "5dd0cda0",
   "metadata": {},
   "outputs": [
    {
     "data": {
      "text/plain": [
       "0    Low Fat\n",
       "1    Regular\n",
       "2    Low Fat\n",
       "3    Regular\n",
       "4    Low Fat\n",
       "Name: Item_Fat_Content, dtype: object"
      ]
     },
     "execution_count": 266,
     "metadata": {},
     "output_type": "execute_result"
    }
   ],
   "source": [
    "df['Item_Fat_Content'].head()"
   ]
  },
  {
   "cell_type": "code",
   "execution_count": 267,
   "id": "f982296a",
   "metadata": {},
   "outputs": [
    {
     "data": {
      "text/plain": [
       "Low Fat    5089\n",
       "Regular    2889\n",
       "LF          316\n",
       "reg         117\n",
       "low fat     112\n",
       "Name: Item_Fat_Content, dtype: int64"
      ]
     },
     "execution_count": 267,
     "metadata": {},
     "output_type": "execute_result"
    }
   ],
   "source": [
    "df['Item_Fat_Content'].value_counts()"
   ]
  },
  {
   "cell_type": "code",
   "execution_count": 268,
   "id": "257f1844",
   "metadata": {},
   "outputs": [],
   "source": [
    "df['Item_Fat_Content'].replace({'Low Fat':0, 'Regular':1, 'LF':0, 'reg':1, 'low fat':0}, inplace = True)"
   ]
  },
  {
   "cell_type": "code",
   "execution_count": 269,
   "id": "13acc961",
   "metadata": {},
   "outputs": [
    {
     "data": {
      "text/plain": [
       "0    0\n",
       "1    1\n",
       "2    0\n",
       "3    1\n",
       "4    0\n",
       "Name: Item_Fat_Content, dtype: int64"
      ]
     },
     "execution_count": 269,
     "metadata": {},
     "output_type": "execute_result"
    }
   ],
   "source": [
    "df['Item_Fat_Content'].head()"
   ]
  },
  {
   "cell_type": "code",
   "execution_count": 270,
   "id": "4fe6e7e7",
   "metadata": {},
   "outputs": [
    {
     "name": "stdout",
     "output_type": "stream",
     "text": [
      "<class 'pandas.core.frame.DataFrame'>\n",
      "RangeIndex: 8523 entries, 0 to 8522\n",
      "Data columns (total 12 columns):\n",
      " #   Column                     Non-Null Count  Dtype  \n",
      "---  ------                     --------------  -----  \n",
      " 0   Item_Identifier            8523 non-null   object \n",
      " 1   Item_Weight                8523 non-null   float64\n",
      " 2   Item_Fat_Content           8523 non-null   int64  \n",
      " 3   Item_Visibility            8523 non-null   float64\n",
      " 4   Item_Type                  8523 non-null   object \n",
      " 5   Item_MRP                   8523 non-null   float64\n",
      " 6   Outlet_Identifier          8523 non-null   object \n",
      " 7   Outlet_Establishment_Year  8523 non-null   int64  \n",
      " 8   Outlet_Size                8523 non-null   float64\n",
      " 9   Outlet_Location_Type       8523 non-null   object \n",
      " 10  Outlet_Type                8523 non-null   object \n",
      " 11  Item_Outlet_Sales          8523 non-null   float64\n",
      "dtypes: float64(5), int64(2), object(5)\n",
      "memory usage: 799.2+ KB\n"
     ]
    }
   ],
   "source": [
    "df.info()"
   ]
  },
  {
   "cell_type": "code",
   "execution_count": 271,
   "id": "db536cc5",
   "metadata": {
    "scrolled": true
   },
   "outputs": [
    {
     "data": {
      "text/plain": [
       "16"
      ]
     },
     "execution_count": 271,
     "metadata": {},
     "output_type": "execute_result"
    }
   ],
   "source": [
    "df['Item_Type'].nunique()"
   ]
  },
  {
   "cell_type": "code",
   "execution_count": 272,
   "id": "487b12eb",
   "metadata": {},
   "outputs": [
    {
     "data": {
      "text/plain": [
       "Fruits and Vegetables    1232\n",
       "Snack Foods              1200\n",
       "Household                 910\n",
       "Frozen Foods              856\n",
       "Dairy                     682\n",
       "Canned                    649\n",
       "Baking Goods              648\n",
       "Health and Hygiene        520\n",
       "Soft Drinks               445\n",
       "Meat                      425\n",
       "Breads                    251\n",
       "Hard Drinks               214\n",
       "Others                    169\n",
       "Starchy Foods             148\n",
       "Breakfast                 110\n",
       "Seafood                    64\n",
       "Name: Item_Type, dtype: int64"
      ]
     },
     "execution_count": 272,
     "metadata": {},
     "output_type": "execute_result"
    }
   ],
   "source": [
    "df['Item_Type'].value_counts()"
   ]
  },
  {
   "cell_type": "code",
   "execution_count": 273,
   "id": "17e97473",
   "metadata": {},
   "outputs": [
    {
     "data": {
      "text/plain": [
       "16"
      ]
     },
     "execution_count": 273,
     "metadata": {},
     "output_type": "execute_result"
    }
   ],
   "source": [
    "df['Item_Type'].nunique()"
   ]
  },
  {
   "cell_type": "code",
   "execution_count": 274,
   "id": "591ccf27",
   "metadata": {
    "scrolled": true
   },
   "outputs": [
    {
     "data": {
      "text/plain": [
       "10"
      ]
     },
     "execution_count": 274,
     "metadata": {},
     "output_type": "execute_result"
    }
   ],
   "source": [
    "df['Outlet_Identifier'].nunique()"
   ]
  },
  {
   "cell_type": "code",
   "execution_count": 275,
   "id": "661e5914",
   "metadata": {},
   "outputs": [
    {
     "data": {
      "text/plain": [
       "3"
      ]
     },
     "execution_count": 275,
     "metadata": {},
     "output_type": "execute_result"
    }
   ],
   "source": [
    "df['Outlet_Location_Type'].nunique()"
   ]
  },
  {
   "cell_type": "code",
   "execution_count": 276,
   "id": "1f10bd96",
   "metadata": {},
   "outputs": [
    {
     "data": {
      "text/plain": [
       "4"
      ]
     },
     "execution_count": 276,
     "metadata": {},
     "output_type": "execute_result"
    }
   ],
   "source": [
    "df['Outlet_Type'].nunique()"
   ]
  },
  {
   "cell_type": "code",
   "execution_count": 277,
   "id": "26f4a7e5",
   "metadata": {},
   "outputs": [],
   "source": [
    "from sklearn.preprocessing import OneHotEncoder"
   ]
  },
  {
   "cell_type": "code",
   "execution_count": 278,
   "id": "48de184d",
   "metadata": {},
   "outputs": [],
   "source": [
    "ohe=OneHotEncoder(drop='first', sparse=False)\n",
    "# drop='first' will drop first column \n",
    "# sparse=False i.e. bydefault one hot encoder provides sparse matrix, if will set sparse =False it will provide numpy array instead of sparse matrix"
   ]
  },
  {
   "cell_type": "code",
   "execution_count": 279,
   "id": "dca7c02e",
   "metadata": {},
   "outputs": [
    {
     "data": {
      "text/plain": [
       "array([[0., 0., 0., ..., 1., 0., 0.],\n",
       "       [0., 0., 0., ..., 0., 1., 0.],\n",
       "       [0., 0., 0., ..., 1., 0., 0.],\n",
       "       ...,\n",
       "       [0., 0., 0., ..., 1., 0., 0.],\n",
       "       [0., 0., 0., ..., 0., 1., 0.],\n",
       "       [0., 0., 0., ..., 1., 0., 0.]])"
      ]
     },
     "execution_count": 279,
     "metadata": {},
     "output_type": "execute_result"
    }
   ],
   "source": [
    "ohe.fit_transform(df[['Item_Type','Outlet_Identifier','Outlet_Location_Type','Outlet_Type']])\n",
    "# ohe.fit_transform(df[['Item_Type','Outlet_Identifier','Outlet_Location_Type','Outlet_Type']]).toarray() no need to mention .toarray as we have mentioned sparse=False as it will provide numpy array instaed of sparse matrix\n",
    "# .toarray() converts sparse matrix to numpy array"
   ]
  },
  {
   "cell_type": "code",
   "execution_count": 280,
   "id": "775f8bce",
   "metadata": {},
   "outputs": [],
   "source": [
    "feature_array= ohe.fit_transform(df[['Item_Type','Outlet_Identifier','Outlet_Location_Type','Outlet_Type']])"
   ]
  },
  {
   "cell_type": "code",
   "execution_count": 281,
   "id": "ad5b3783",
   "metadata": {},
   "outputs": [
    {
     "data": {
      "text/plain": [
       "[array(['Baking Goods', 'Breads', 'Breakfast', 'Canned', 'Dairy',\n",
       "        'Frozen Foods', 'Fruits and Vegetables', 'Hard Drinks',\n",
       "        'Health and Hygiene', 'Household', 'Meat', 'Others', 'Seafood',\n",
       "        'Snack Foods', 'Soft Drinks', 'Starchy Foods'], dtype=object),\n",
       " array(['OUT010', 'OUT013', 'OUT017', 'OUT018', 'OUT019', 'OUT027',\n",
       "        'OUT035', 'OUT045', 'OUT046', 'OUT049'], dtype=object),\n",
       " array(['Tier 1', 'Tier 2', 'Tier 3'], dtype=object),\n",
       " array(['Grocery Store', 'Supermarket Type1', 'Supermarket Type2',\n",
       "        'Supermarket Type3'], dtype=object)]"
      ]
     },
     "execution_count": 281,
     "metadata": {},
     "output_type": "execute_result"
    }
   ],
   "source": [
    "ohe.categories_"
   ]
  },
  {
   "cell_type": "code",
   "execution_count": 282,
   "id": "27fd3ce3",
   "metadata": {},
   "outputs": [],
   "source": [
    "feature_labels = np.array(['Breads', 'Breakfast', 'Canned', 'Dairy',\n",
    "        'Frozen Foods', 'Fruits and Vegetables', 'Hard Drinks',\n",
    "        'Health and Hygiene', 'Household', 'Meat', 'Others', 'Seafood',\n",
    "        'Snack Foods', 'Soft Drinks', 'Starchy Foods', 'OUT013', 'OUT017', 'OUT018', 'OUT019', 'OUT027',\n",
    "        'OUT035', 'OUT045', 'OUT046', 'OUT049', 'Tier 2', 'Tier 3','Supermarket Type1', 'Supermarket Type2',\n",
    "        'Supermarket Type3'])"
   ]
  },
  {
   "cell_type": "code",
   "execution_count": 283,
   "id": "4cd35d4a",
   "metadata": {},
   "outputs": [
    {
     "data": {
      "text/plain": [
       "array(['Breads', 'Breakfast', 'Canned', 'Dairy', 'Frozen Foods',\n",
       "       'Fruits and Vegetables', 'Hard Drinks', 'Health and Hygiene',\n",
       "       'Household', 'Meat', 'Others', 'Seafood', 'Snack Foods',\n",
       "       'Soft Drinks', 'Starchy Foods', 'OUT013', 'OUT017', 'OUT018',\n",
       "       'OUT019', 'OUT027', 'OUT035', 'OUT045', 'OUT046', 'OUT049',\n",
       "       'Tier 2', 'Tier 3', 'Supermarket Type1', 'Supermarket Type2',\n",
       "       'Supermarket Type3'], dtype='<U21')"
      ]
     },
     "execution_count": 283,
     "metadata": {},
     "output_type": "execute_result"
    }
   ],
   "source": [
    "feature_labels"
   ]
  },
  {
   "cell_type": "code",
   "execution_count": 284,
   "id": "6660c7fc",
   "metadata": {},
   "outputs": [],
   "source": [
    "features = pd.DataFrame(feature_array, columns = feature_labels)\n",
    "df_new = pd.concat([df,features],axis=1)"
   ]
  },
  {
   "cell_type": "code",
   "execution_count": 285,
   "id": "8d05559e",
   "metadata": {},
   "outputs": [],
   "source": [
    "df_new.drop(columns=['Item_Identifier','Item_Type','Outlet_Identifier','Outlet_Location_Type','Outlet_Type'],inplace=True)"
   ]
  },
  {
   "cell_type": "code",
   "execution_count": 286,
   "id": "811c3aea",
   "metadata": {
    "scrolled": true
   },
   "outputs": [
    {
     "data": {
      "text/html": [
       "<div>\n",
       "<style scoped>\n",
       "    .dataframe tbody tr th:only-of-type {\n",
       "        vertical-align: middle;\n",
       "    }\n",
       "\n",
       "    .dataframe tbody tr th {\n",
       "        vertical-align: top;\n",
       "    }\n",
       "\n",
       "    .dataframe thead th {\n",
       "        text-align: right;\n",
       "    }\n",
       "</style>\n",
       "<table border=\"1\" class=\"dataframe\">\n",
       "  <thead>\n",
       "    <tr style=\"text-align: right;\">\n",
       "      <th></th>\n",
       "      <th>Item_Weight</th>\n",
       "      <th>Item_Fat_Content</th>\n",
       "      <th>Item_Visibility</th>\n",
       "      <th>Item_MRP</th>\n",
       "      <th>Outlet_Establishment_Year</th>\n",
       "      <th>Outlet_Size</th>\n",
       "      <th>Item_Outlet_Sales</th>\n",
       "      <th>Breads</th>\n",
       "      <th>Breakfast</th>\n",
       "      <th>Canned</th>\n",
       "      <th>...</th>\n",
       "      <th>OUT027</th>\n",
       "      <th>OUT035</th>\n",
       "      <th>OUT045</th>\n",
       "      <th>OUT046</th>\n",
       "      <th>OUT049</th>\n",
       "      <th>Tier 2</th>\n",
       "      <th>Tier 3</th>\n",
       "      <th>Supermarket Type1</th>\n",
       "      <th>Supermarket Type2</th>\n",
       "      <th>Supermarket Type3</th>\n",
       "    </tr>\n",
       "  </thead>\n",
       "  <tbody>\n",
       "    <tr>\n",
       "      <th>0</th>\n",
       "      <td>9.300</td>\n",
       "      <td>0</td>\n",
       "      <td>0.016047</td>\n",
       "      <td>249.8092</td>\n",
       "      <td>1999</td>\n",
       "      <td>1.0</td>\n",
       "      <td>3735.1380</td>\n",
       "      <td>0.0</td>\n",
       "      <td>0.0</td>\n",
       "      <td>0.0</td>\n",
       "      <td>...</td>\n",
       "      <td>0.0</td>\n",
       "      <td>0.0</td>\n",
       "      <td>0.0</td>\n",
       "      <td>0.0</td>\n",
       "      <td>1.0</td>\n",
       "      <td>0.0</td>\n",
       "      <td>0.0</td>\n",
       "      <td>1.0</td>\n",
       "      <td>0.0</td>\n",
       "      <td>0.0</td>\n",
       "    </tr>\n",
       "    <tr>\n",
       "      <th>1</th>\n",
       "      <td>5.920</td>\n",
       "      <td>1</td>\n",
       "      <td>0.019278</td>\n",
       "      <td>48.2692</td>\n",
       "      <td>2009</td>\n",
       "      <td>1.0</td>\n",
       "      <td>443.4228</td>\n",
       "      <td>0.0</td>\n",
       "      <td>0.0</td>\n",
       "      <td>0.0</td>\n",
       "      <td>...</td>\n",
       "      <td>0.0</td>\n",
       "      <td>0.0</td>\n",
       "      <td>0.0</td>\n",
       "      <td>0.0</td>\n",
       "      <td>0.0</td>\n",
       "      <td>0.0</td>\n",
       "      <td>1.0</td>\n",
       "      <td>0.0</td>\n",
       "      <td>1.0</td>\n",
       "      <td>0.0</td>\n",
       "    </tr>\n",
       "    <tr>\n",
       "      <th>2</th>\n",
       "      <td>17.500</td>\n",
       "      <td>0</td>\n",
       "      <td>0.016760</td>\n",
       "      <td>141.6180</td>\n",
       "      <td>1999</td>\n",
       "      <td>1.0</td>\n",
       "      <td>2097.2700</td>\n",
       "      <td>0.0</td>\n",
       "      <td>0.0</td>\n",
       "      <td>0.0</td>\n",
       "      <td>...</td>\n",
       "      <td>0.0</td>\n",
       "      <td>0.0</td>\n",
       "      <td>0.0</td>\n",
       "      <td>0.0</td>\n",
       "      <td>1.0</td>\n",
       "      <td>0.0</td>\n",
       "      <td>0.0</td>\n",
       "      <td>1.0</td>\n",
       "      <td>0.0</td>\n",
       "      <td>0.0</td>\n",
       "    </tr>\n",
       "    <tr>\n",
       "      <th>3</th>\n",
       "      <td>19.200</td>\n",
       "      <td>1</td>\n",
       "      <td>0.000000</td>\n",
       "      <td>182.0950</td>\n",
       "      <td>1998</td>\n",
       "      <td>1.0</td>\n",
       "      <td>732.3800</td>\n",
       "      <td>0.0</td>\n",
       "      <td>0.0</td>\n",
       "      <td>0.0</td>\n",
       "      <td>...</td>\n",
       "      <td>0.0</td>\n",
       "      <td>0.0</td>\n",
       "      <td>0.0</td>\n",
       "      <td>0.0</td>\n",
       "      <td>0.0</td>\n",
       "      <td>0.0</td>\n",
       "      <td>1.0</td>\n",
       "      <td>0.0</td>\n",
       "      <td>0.0</td>\n",
       "      <td>0.0</td>\n",
       "    </tr>\n",
       "    <tr>\n",
       "      <th>4</th>\n",
       "      <td>8.930</td>\n",
       "      <td>0</td>\n",
       "      <td>0.000000</td>\n",
       "      <td>53.8614</td>\n",
       "      <td>1987</td>\n",
       "      <td>2.0</td>\n",
       "      <td>994.7052</td>\n",
       "      <td>0.0</td>\n",
       "      <td>0.0</td>\n",
       "      <td>0.0</td>\n",
       "      <td>...</td>\n",
       "      <td>0.0</td>\n",
       "      <td>0.0</td>\n",
       "      <td>0.0</td>\n",
       "      <td>0.0</td>\n",
       "      <td>0.0</td>\n",
       "      <td>0.0</td>\n",
       "      <td>1.0</td>\n",
       "      <td>1.0</td>\n",
       "      <td>0.0</td>\n",
       "      <td>0.0</td>\n",
       "    </tr>\n",
       "    <tr>\n",
       "      <th>...</th>\n",
       "      <td>...</td>\n",
       "      <td>...</td>\n",
       "      <td>...</td>\n",
       "      <td>...</td>\n",
       "      <td>...</td>\n",
       "      <td>...</td>\n",
       "      <td>...</td>\n",
       "      <td>...</td>\n",
       "      <td>...</td>\n",
       "      <td>...</td>\n",
       "      <td>...</td>\n",
       "      <td>...</td>\n",
       "      <td>...</td>\n",
       "      <td>...</td>\n",
       "      <td>...</td>\n",
       "      <td>...</td>\n",
       "      <td>...</td>\n",
       "      <td>...</td>\n",
       "      <td>...</td>\n",
       "      <td>...</td>\n",
       "      <td>...</td>\n",
       "    </tr>\n",
       "    <tr>\n",
       "      <th>8518</th>\n",
       "      <td>6.865</td>\n",
       "      <td>0</td>\n",
       "      <td>0.056783</td>\n",
       "      <td>214.5218</td>\n",
       "      <td>1987</td>\n",
       "      <td>2.0</td>\n",
       "      <td>2778.3834</td>\n",
       "      <td>0.0</td>\n",
       "      <td>0.0</td>\n",
       "      <td>0.0</td>\n",
       "      <td>...</td>\n",
       "      <td>0.0</td>\n",
       "      <td>0.0</td>\n",
       "      <td>0.0</td>\n",
       "      <td>0.0</td>\n",
       "      <td>0.0</td>\n",
       "      <td>0.0</td>\n",
       "      <td>1.0</td>\n",
       "      <td>1.0</td>\n",
       "      <td>0.0</td>\n",
       "      <td>0.0</td>\n",
       "    </tr>\n",
       "    <tr>\n",
       "      <th>8519</th>\n",
       "      <td>8.380</td>\n",
       "      <td>1</td>\n",
       "      <td>0.046982</td>\n",
       "      <td>108.1570</td>\n",
       "      <td>2002</td>\n",
       "      <td>1.0</td>\n",
       "      <td>549.2850</td>\n",
       "      <td>0.0</td>\n",
       "      <td>0.0</td>\n",
       "      <td>0.0</td>\n",
       "      <td>...</td>\n",
       "      <td>0.0</td>\n",
       "      <td>0.0</td>\n",
       "      <td>1.0</td>\n",
       "      <td>0.0</td>\n",
       "      <td>0.0</td>\n",
       "      <td>1.0</td>\n",
       "      <td>0.0</td>\n",
       "      <td>1.0</td>\n",
       "      <td>0.0</td>\n",
       "      <td>0.0</td>\n",
       "    </tr>\n",
       "    <tr>\n",
       "      <th>8520</th>\n",
       "      <td>10.600</td>\n",
       "      <td>0</td>\n",
       "      <td>0.035186</td>\n",
       "      <td>85.1224</td>\n",
       "      <td>2004</td>\n",
       "      <td>0.0</td>\n",
       "      <td>1193.1136</td>\n",
       "      <td>0.0</td>\n",
       "      <td>0.0</td>\n",
       "      <td>0.0</td>\n",
       "      <td>...</td>\n",
       "      <td>0.0</td>\n",
       "      <td>1.0</td>\n",
       "      <td>0.0</td>\n",
       "      <td>0.0</td>\n",
       "      <td>0.0</td>\n",
       "      <td>1.0</td>\n",
       "      <td>0.0</td>\n",
       "      <td>1.0</td>\n",
       "      <td>0.0</td>\n",
       "      <td>0.0</td>\n",
       "    </tr>\n",
       "    <tr>\n",
       "      <th>8521</th>\n",
       "      <td>7.210</td>\n",
       "      <td>1</td>\n",
       "      <td>0.145221</td>\n",
       "      <td>103.1332</td>\n",
       "      <td>2009</td>\n",
       "      <td>1.0</td>\n",
       "      <td>1845.5976</td>\n",
       "      <td>0.0</td>\n",
       "      <td>0.0</td>\n",
       "      <td>0.0</td>\n",
       "      <td>...</td>\n",
       "      <td>0.0</td>\n",
       "      <td>0.0</td>\n",
       "      <td>0.0</td>\n",
       "      <td>0.0</td>\n",
       "      <td>0.0</td>\n",
       "      <td>0.0</td>\n",
       "      <td>1.0</td>\n",
       "      <td>0.0</td>\n",
       "      <td>1.0</td>\n",
       "      <td>0.0</td>\n",
       "    </tr>\n",
       "    <tr>\n",
       "      <th>8522</th>\n",
       "      <td>14.800</td>\n",
       "      <td>0</td>\n",
       "      <td>0.044878</td>\n",
       "      <td>75.4670</td>\n",
       "      <td>1997</td>\n",
       "      <td>0.0</td>\n",
       "      <td>765.6700</td>\n",
       "      <td>0.0</td>\n",
       "      <td>0.0</td>\n",
       "      <td>0.0</td>\n",
       "      <td>...</td>\n",
       "      <td>0.0</td>\n",
       "      <td>0.0</td>\n",
       "      <td>0.0</td>\n",
       "      <td>1.0</td>\n",
       "      <td>0.0</td>\n",
       "      <td>0.0</td>\n",
       "      <td>0.0</td>\n",
       "      <td>1.0</td>\n",
       "      <td>0.0</td>\n",
       "      <td>0.0</td>\n",
       "    </tr>\n",
       "  </tbody>\n",
       "</table>\n",
       "<p>8523 rows × 36 columns</p>\n",
       "</div>"
      ],
      "text/plain": [
       "      Item_Weight  Item_Fat_Content  Item_Visibility  Item_MRP  \\\n",
       "0           9.300                 0         0.016047  249.8092   \n",
       "1           5.920                 1         0.019278   48.2692   \n",
       "2          17.500                 0         0.016760  141.6180   \n",
       "3          19.200                 1         0.000000  182.0950   \n",
       "4           8.930                 0         0.000000   53.8614   \n",
       "...           ...               ...              ...       ...   \n",
       "8518        6.865                 0         0.056783  214.5218   \n",
       "8519        8.380                 1         0.046982  108.1570   \n",
       "8520       10.600                 0         0.035186   85.1224   \n",
       "8521        7.210                 1         0.145221  103.1332   \n",
       "8522       14.800                 0         0.044878   75.4670   \n",
       "\n",
       "      Outlet_Establishment_Year  Outlet_Size  Item_Outlet_Sales  Breads  \\\n",
       "0                          1999          1.0          3735.1380     0.0   \n",
       "1                          2009          1.0           443.4228     0.0   \n",
       "2                          1999          1.0          2097.2700     0.0   \n",
       "3                          1998          1.0           732.3800     0.0   \n",
       "4                          1987          2.0           994.7052     0.0   \n",
       "...                         ...          ...                ...     ...   \n",
       "8518                       1987          2.0          2778.3834     0.0   \n",
       "8519                       2002          1.0           549.2850     0.0   \n",
       "8520                       2004          0.0          1193.1136     0.0   \n",
       "8521                       2009          1.0          1845.5976     0.0   \n",
       "8522                       1997          0.0           765.6700     0.0   \n",
       "\n",
       "      Breakfast  Canned  ...  OUT027  OUT035  OUT045  OUT046  OUT049  Tier 2  \\\n",
       "0           0.0     0.0  ...     0.0     0.0     0.0     0.0     1.0     0.0   \n",
       "1           0.0     0.0  ...     0.0     0.0     0.0     0.0     0.0     0.0   \n",
       "2           0.0     0.0  ...     0.0     0.0     0.0     0.0     1.0     0.0   \n",
       "3           0.0     0.0  ...     0.0     0.0     0.0     0.0     0.0     0.0   \n",
       "4           0.0     0.0  ...     0.0     0.0     0.0     0.0     0.0     0.0   \n",
       "...         ...     ...  ...     ...     ...     ...     ...     ...     ...   \n",
       "8518        0.0     0.0  ...     0.0     0.0     0.0     0.0     0.0     0.0   \n",
       "8519        0.0     0.0  ...     0.0     0.0     1.0     0.0     0.0     1.0   \n",
       "8520        0.0     0.0  ...     0.0     1.0     0.0     0.0     0.0     1.0   \n",
       "8521        0.0     0.0  ...     0.0     0.0     0.0     0.0     0.0     0.0   \n",
       "8522        0.0     0.0  ...     0.0     0.0     0.0     1.0     0.0     0.0   \n",
       "\n",
       "      Tier 3  Supermarket Type1  Supermarket Type2  Supermarket Type3  \n",
       "0        0.0                1.0                0.0                0.0  \n",
       "1        1.0                0.0                1.0                0.0  \n",
       "2        0.0                1.0                0.0                0.0  \n",
       "3        1.0                0.0                0.0                0.0  \n",
       "4        1.0                1.0                0.0                0.0  \n",
       "...      ...                ...                ...                ...  \n",
       "8518     1.0                1.0                0.0                0.0  \n",
       "8519     0.0                1.0                0.0                0.0  \n",
       "8520     0.0                1.0                0.0                0.0  \n",
       "8521     1.0                0.0                1.0                0.0  \n",
       "8522     0.0                1.0                0.0                0.0  \n",
       "\n",
       "[8523 rows x 36 columns]"
      ]
     },
     "execution_count": 286,
     "metadata": {},
     "output_type": "execute_result"
    }
   ],
   "source": [
    "df_new"
   ]
  },
  {
   "cell_type": "code",
   "execution_count": 287,
   "id": "fc9f2454",
   "metadata": {},
   "outputs": [
    {
     "data": {
      "text/html": [
       "<div>\n",
       "<style scoped>\n",
       "    .dataframe tbody tr th:only-of-type {\n",
       "        vertical-align: middle;\n",
       "    }\n",
       "\n",
       "    .dataframe tbody tr th {\n",
       "        vertical-align: top;\n",
       "    }\n",
       "\n",
       "    .dataframe thead th {\n",
       "        text-align: right;\n",
       "    }\n",
       "</style>\n",
       "<table border=\"1\" class=\"dataframe\">\n",
       "  <thead>\n",
       "    <tr style=\"text-align: right;\">\n",
       "      <th></th>\n",
       "      <th>Item_Weight</th>\n",
       "      <th>Item_Fat_Content</th>\n",
       "      <th>Item_Visibility</th>\n",
       "      <th>Item_MRP</th>\n",
       "      <th>Outlet_Establishment_Year</th>\n",
       "      <th>Outlet_Size</th>\n",
       "      <th>Item_Outlet_Sales</th>\n",
       "      <th>Breads</th>\n",
       "      <th>Breakfast</th>\n",
       "      <th>Canned</th>\n",
       "      <th>...</th>\n",
       "      <th>OUT027</th>\n",
       "      <th>OUT035</th>\n",
       "      <th>OUT045</th>\n",
       "      <th>OUT046</th>\n",
       "      <th>OUT049</th>\n",
       "      <th>Tier 2</th>\n",
       "      <th>Tier 3</th>\n",
       "      <th>Supermarket Type1</th>\n",
       "      <th>Supermarket Type2</th>\n",
       "      <th>Supermarket Type3</th>\n",
       "    </tr>\n",
       "  </thead>\n",
       "  <tbody>\n",
       "    <tr>\n",
       "      <th>Item_Weight</th>\n",
       "      <td>1.000000e+00</td>\n",
       "      <td>-0.021157</td>\n",
       "      <td>-0.012049</td>\n",
       "      <td>0.024756</td>\n",
       "      <td>-0.008301</td>\n",
       "      <td>0.007225</td>\n",
       "      <td>0.011550</td>\n",
       "      <td>-0.050612</td>\n",
       "      <td>-0.001958</td>\n",
       "      <td>-0.031142</td>\n",
       "      <td>...</td>\n",
       "      <td>-1.266999e-08</td>\n",
       "      <td>-0.002343</td>\n",
       "      <td>-0.017187</td>\n",
       "      <td>0.000758</td>\n",
       "      <td>0.004953</td>\n",
       "      <td>-0.014675</td>\n",
       "      <td>0.010447</td>\n",
       "      <td>-0.002649</td>\n",
       "      <td>0.001299</td>\n",
       "      <td>-1.266999e-08</td>\n",
       "    </tr>\n",
       "    <tr>\n",
       "      <th>Item_Fat_Content</th>\n",
       "      <td>-2.115731e-02</td>\n",
       "      <td>1.000000</td>\n",
       "      <td>0.047314</td>\n",
       "      <td>0.006063</td>\n",
       "      <td>0.003151</td>\n",
       "      <td>0.000622</td>\n",
       "      <td>0.018719</td>\n",
       "      <td>0.032643</td>\n",
       "      <td>0.065711</td>\n",
       "      <td>0.073235</td>\n",
       "      <td>...</td>\n",
       "      <td>1.825365e-04</td>\n",
       "      <td>-0.003154</td>\n",
       "      <td>-0.006029</td>\n",
       "      <td>0.003147</td>\n",
       "      <td>0.004722</td>\n",
       "      <td>-0.003272</td>\n",
       "      <td>0.000241</td>\n",
       "      <td>0.000533</td>\n",
       "      <td>0.002129</td>\n",
       "      <td>1.825365e-04</td>\n",
       "    </tr>\n",
       "    <tr>\n",
       "      <th>Item_Visibility</th>\n",
       "      <td>-1.204853e-02</td>\n",
       "      <td>0.047314</td>\n",
       "      <td>1.000000</td>\n",
       "      <td>-0.001315</td>\n",
       "      <td>-0.074834</td>\n",
       "      <td>-0.069309</td>\n",
       "      <td>-0.128625</td>\n",
       "      <td>0.000416</td>\n",
       "      <td>0.043418</td>\n",
       "      <td>0.011114</td>\n",
       "      <td>...</td>\n",
       "      <td>-5.114446e-02</td>\n",
       "      <td>-0.033025</td>\n",
       "      <td>-0.038353</td>\n",
       "      <td>-0.038444</td>\n",
       "      <td>-0.036130</td>\n",
       "      <td>-0.068787</td>\n",
       "      <td>0.009650</td>\n",
       "      <td>-0.144249</td>\n",
       "      <td>-0.034671</td>\n",
       "      <td>-5.114446e-02</td>\n",
       "    </tr>\n",
       "    <tr>\n",
       "      <th>Item_MRP</th>\n",
       "      <td>2.475610e-02</td>\n",
       "      <td>0.006063</td>\n",
       "      <td>-0.001315</td>\n",
       "      <td>1.000000</td>\n",
       "      <td>0.005020</td>\n",
       "      <td>-0.006059</td>\n",
       "      <td>0.567574</td>\n",
       "      <td>-0.000112</td>\n",
       "      <td>0.001460</td>\n",
       "      <td>-0.005666</td>\n",
       "      <td>...</td>\n",
       "      <td>-6.713699e-03</td>\n",
       "      <td>0.011969</td>\n",
       "      <td>-0.000239</td>\n",
       "      <td>0.005983</td>\n",
       "      <td>-0.003906</td>\n",
       "      <td>0.001951</td>\n",
       "      <td>-0.000744</td>\n",
       "      <td>0.004885</td>\n",
       "      <td>0.003850</td>\n",
       "      <td>-6.713699e-03</td>\n",
       "    </tr>\n",
       "    <tr>\n",
       "      <th>Outlet_Establishment_Year</th>\n",
       "      <td>-8.300825e-03</td>\n",
       "      <td>0.003151</td>\n",
       "      <td>-0.074834</td>\n",
       "      <td>0.005020</td>\n",
       "      <td>1.000000</td>\n",
       "      <td>-0.193389</td>\n",
       "      <td>-0.049135</td>\n",
       "      <td>-0.003631</td>\n",
       "      <td>-0.006768</td>\n",
       "      <td>0.010998</td>\n",
       "      <td>...</td>\n",
       "      <td>-5.380723e-01</td>\n",
       "      <td>0.257868</td>\n",
       "      <td>0.174150</td>\n",
       "      <td>-0.034777</td>\n",
       "      <td>0.048836</td>\n",
       "      <td>0.540820</td>\n",
       "      <td>-0.333895</td>\n",
       "      <td>0.245070</td>\n",
       "      <td>0.466336</td>\n",
       "      <td>-5.380723e-01</td>\n",
       "    </tr>\n",
       "    <tr>\n",
       "      <th>Outlet_Size</th>\n",
       "      <td>7.224744e-03</td>\n",
       "      <td>0.000622</td>\n",
       "      <td>-0.069309</td>\n",
       "      <td>-0.006059</td>\n",
       "      <td>-0.193389</td>\n",
       "      <td>1.000000</td>\n",
       "      <td>0.086182</td>\n",
       "      <td>-0.003608</td>\n",
       "      <td>0.003102</td>\n",
       "      <td>-0.009676</td>\n",
       "      <td>...</td>\n",
       "      <td>9.989606e-02</td>\n",
       "      <td>-0.483409</td>\n",
       "      <td>0.099536</td>\n",
       "      <td>-0.483409</td>\n",
       "      <td>0.099596</td>\n",
       "      <td>-0.189288</td>\n",
       "      <td>0.601969</td>\n",
       "      <td>0.010163</td>\n",
       "      <td>0.099476</td>\n",
       "      <td>9.989606e-02</td>\n",
       "    </tr>\n",
       "    <tr>\n",
       "      <th>Item_Outlet_Sales</th>\n",
       "      <td>1.155000e-02</td>\n",
       "      <td>0.018719</td>\n",
       "      <td>-0.128625</td>\n",
       "      <td>0.567574</td>\n",
       "      <td>-0.049135</td>\n",
       "      <td>0.086182</td>\n",
       "      <td>1.000000</td>\n",
       "      <td>0.002332</td>\n",
       "      <td>-0.004656</td>\n",
       "      <td>0.007387</td>\n",
       "      <td>...</td>\n",
       "      <td>3.111920e-01</td>\n",
       "      <td>0.052823</td>\n",
       "      <td>0.002274</td>\n",
       "      <td>0.019803</td>\n",
       "      <td>0.034264</td>\n",
       "      <td>0.058261</td>\n",
       "      <td>0.046376</td>\n",
       "      <td>0.108765</td>\n",
       "      <td>-0.038059</td>\n",
       "      <td>3.111920e-01</td>\n",
       "    </tr>\n",
       "    <tr>\n",
       "      <th>Breads</th>\n",
       "      <td>-5.061184e-02</td>\n",
       "      <td>0.032643</td>\n",
       "      <td>0.000416</td>\n",
       "      <td>-0.000112</td>\n",
       "      <td>-0.003631</td>\n",
       "      <td>-0.003608</td>\n",
       "      <td>0.002332</td>\n",
       "      <td>1.000000</td>\n",
       "      <td>-0.019918</td>\n",
       "      <td>-0.050010</td>\n",
       "      <td>...</td>\n",
       "      <td>7.693473e-03</td>\n",
       "      <td>0.003588</td>\n",
       "      <td>0.012563</td>\n",
       "      <td>-0.003090</td>\n",
       "      <td>-0.005316</td>\n",
       "      <td>0.002933</td>\n",
       "      <td>0.001909</td>\n",
       "      <td>-0.006189</td>\n",
       "      <td>-0.000734</td>\n",
       "      <td>7.693473e-03</td>\n",
       "    </tr>\n",
       "    <tr>\n",
       "      <th>Breakfast</th>\n",
       "      <td>-1.958157e-03</td>\n",
       "      <td>0.065711</td>\n",
       "      <td>0.043418</td>\n",
       "      <td>0.001460</td>\n",
       "      <td>-0.006768</td>\n",
       "      <td>0.003102</td>\n",
       "      <td>-0.004656</td>\n",
       "      <td>-0.019918</td>\n",
       "      <td>1.000000</td>\n",
       "      <td>-0.032828</td>\n",
       "      <td>...</td>\n",
       "      <td>-3.550234e-03</td>\n",
       "      <td>-0.006677</td>\n",
       "      <td>-0.006638</td>\n",
       "      <td>-0.006677</td>\n",
       "      <td>0.003325</td>\n",
       "      <td>-0.008741</td>\n",
       "      <td>0.003754</td>\n",
       "      <td>-0.008695</td>\n",
       "      <td>0.000077</td>\n",
       "      <td>-3.550234e-03</td>\n",
       "    </tr>\n",
       "    <tr>\n",
       "      <th>Canned</th>\n",
       "      <td>-3.114182e-02</td>\n",
       "      <td>0.073235</td>\n",
       "      <td>0.011114</td>\n",
       "      <td>-0.005666</td>\n",
       "      <td>0.010998</td>\n",
       "      <td>-0.009676</td>\n",
       "      <td>0.007387</td>\n",
       "      <td>-0.050010</td>\n",
       "      <td>-0.032828</td>\n",
       "      <td>1.000000</td>\n",
       "      <td>...</td>\n",
       "      <td>1.136135e-03</td>\n",
       "      <td>0.011611</td>\n",
       "      <td>0.004627</td>\n",
       "      <td>0.001679</td>\n",
       "      <td>-0.005415</td>\n",
       "      <td>0.009366</td>\n",
       "      <td>-0.004612</td>\n",
       "      <td>0.001236</td>\n",
       "      <td>0.010418</td>\n",
       "      <td>1.136135e-03</td>\n",
       "    </tr>\n",
       "    <tr>\n",
       "      <th>Dairy</th>\n",
       "      <td>3.292259e-02</td>\n",
       "      <td>0.021236</td>\n",
       "      <td>0.035984</td>\n",
       "      <td>0.035551</td>\n",
       "      <td>-0.005286</td>\n",
       "      <td>-0.001075</td>\n",
       "      <td>0.008858</td>\n",
       "      <td>-0.051373</td>\n",
       "      <td>-0.033723</td>\n",
       "      <td>-0.084670</td>\n",
       "      <td>...</td>\n",
       "      <td>-1.081723e-02</td>\n",
       "      <td>-0.004740</td>\n",
       "      <td>-0.007406</td>\n",
       "      <td>0.004969</td>\n",
       "      <td>0.004969</td>\n",
       "      <td>-0.008162</td>\n",
       "      <td>-0.004482</td>\n",
       "      <td>0.003396</td>\n",
       "      <td>-0.001746</td>\n",
       "      <td>-1.081723e-02</td>\n",
       "    </tr>\n",
       "    <tr>\n",
       "      <th>Frozen Foods</th>\n",
       "      <td>6.244953e-04</td>\n",
       "      <td>0.085041</td>\n",
       "      <td>-0.003153</td>\n",
       "      <td>-0.013358</td>\n",
       "      <td>0.007690</td>\n",
       "      <td>-0.007002</td>\n",
       "      <td>-0.009482</td>\n",
       "      <td>-0.058204</td>\n",
       "      <td>-0.038207</td>\n",
       "      <td>-0.095929</td>\n",
       "      <td>...</td>\n",
       "      <td>-6.127626e-03</td>\n",
       "      <td>-0.001757</td>\n",
       "      <td>-0.015411</td>\n",
       "      <td>0.018274</td>\n",
       "      <td>-0.000505</td>\n",
       "      <td>-0.000590</td>\n",
       "      <td>-0.007556</td>\n",
       "      <td>0.009750</td>\n",
       "      <td>-0.001507</td>\n",
       "      <td>-6.127626e-03</td>\n",
       "    </tr>\n",
       "    <tr>\n",
       "      <th>Fruits and Vegetables</th>\n",
       "      <td>2.953735e-02</td>\n",
       "      <td>0.116955</td>\n",
       "      <td>0.018969</td>\n",
       "      <td>0.023688</td>\n",
       "      <td>-0.005495</td>\n",
       "      <td>0.013598</td>\n",
       "      <td>0.025950</td>\n",
       "      <td>-0.071605</td>\n",
       "      <td>-0.047004</td>\n",
       "      <td>-0.118015</td>\n",
       "      <td>...</td>\n",
       "      <td>5.173467e-03</td>\n",
       "      <td>-0.005813</td>\n",
       "      <td>0.009329</td>\n",
       "      <td>-0.009023</td>\n",
       "      <td>0.003819</td>\n",
       "      <td>-0.002541</td>\n",
       "      <td>0.008032</td>\n",
       "      <td>-0.000811</td>\n",
       "      <td>0.000919</td>\n",
       "      <td>5.173467e-03</td>\n",
       "    </tr>\n",
       "    <tr>\n",
       "      <th>Hard Drinks</th>\n",
       "      <td>-4.732681e-02</td>\n",
       "      <td>-0.118461</td>\n",
       "      <td>-0.003700</td>\n",
       "      <td>-0.010089</td>\n",
       "      <td>0.006627</td>\n",
       "      <td>0.011941</td>\n",
       "      <td>-0.003956</td>\n",
       "      <td>-0.027955</td>\n",
       "      <td>-0.018351</td>\n",
       "      <td>-0.046074</td>\n",
       "      <td>...</td>\n",
       "      <td>-1.143358e-03</td>\n",
       "      <td>-0.003249</td>\n",
       "      <td>0.011248</td>\n",
       "      <td>-0.008060</td>\n",
       "      <td>0.015993</td>\n",
       "      <td>0.003314</td>\n",
       "      <td>-0.000174</td>\n",
       "      <td>0.007837</td>\n",
       "      <td>-0.003132</td>\n",
       "      <td>-1.143358e-03</td>\n",
       "    </tr>\n",
       "    <tr>\n",
       "      <th>Health and Hygiene</th>\n",
       "      <td>1.419919e-02</td>\n",
       "      <td>-0.188156</td>\n",
       "      <td>-0.053931</td>\n",
       "      <td>-0.041646</td>\n",
       "      <td>-0.002961</td>\n",
       "      <td>0.011296</td>\n",
       "      <td>-0.025587</td>\n",
       "      <td>-0.044402</td>\n",
       "      <td>-0.029147</td>\n",
       "      <td>-0.073181</td>\n",
       "      <td>...</td>\n",
       "      <td>4.634023e-03</td>\n",
       "      <td>-0.010598</td>\n",
       "      <td>-0.002642</td>\n",
       "      <td>-0.001164</td>\n",
       "      <td>-0.007453</td>\n",
       "      <td>-0.004093</td>\n",
       "      <td>0.011654</td>\n",
       "      <td>-0.005422</td>\n",
       "      <td>0.002174</td>\n",
       "      <td>4.634023e-03</td>\n",
       "    </tr>\n",
       "    <tr>\n",
       "      <th>Household</th>\n",
       "      <td>3.596767e-02</td>\n",
       "      <td>-0.255203</td>\n",
       "      <td>-0.032230</td>\n",
       "      <td>0.046815</td>\n",
       "      <td>-0.001951</td>\n",
       "      <td>0.000922</td>\n",
       "      <td>0.015701</td>\n",
       "      <td>-0.060225</td>\n",
       "      <td>-0.039533</td>\n",
       "      <td>-0.099258</td>\n",
       "      <td>...</td>\n",
       "      <td>-1.008871e-03</td>\n",
       "      <td>0.003295</td>\n",
       "      <td>-0.000231</td>\n",
       "      <td>0.004514</td>\n",
       "      <td>-0.005235</td>\n",
       "      <td>-0.001097</td>\n",
       "      <td>0.004917</td>\n",
       "      <td>0.001234</td>\n",
       "      <td>-0.004979</td>\n",
       "      <td>-1.008871e-03</td>\n",
       "    </tr>\n",
       "    <tr>\n",
       "      <th>Meat</th>\n",
       "      <td>-1.732389e-03</td>\n",
       "      <td>0.118574</td>\n",
       "      <td>-0.017087</td>\n",
       "      <td>-0.004086</td>\n",
       "      <td>-0.013428</td>\n",
       "      <td>-0.004846</td>\n",
       "      <td>-0.002995</td>\n",
       "      <td>-0.039906</td>\n",
       "      <td>-0.026195</td>\n",
       "      <td>-0.065770</td>\n",
       "      <td>...</td>\n",
       "      <td>1.617203e-02</td>\n",
       "      <td>-0.005834</td>\n",
       "      <td>-0.014399</td>\n",
       "      <td>-0.004105</td>\n",
       "      <td>0.001081</td>\n",
       "      <td>-0.015945</td>\n",
       "      <td>0.010983</td>\n",
       "      <td>-0.023912</td>\n",
       "      <td>-0.000476</td>\n",
       "      <td>1.617203e-02</td>\n",
       "    </tr>\n",
       "    <tr>\n",
       "      <th>Others</th>\n",
       "      <td>2.716535e-02</td>\n",
       "      <td>-0.104988</td>\n",
       "      <td>-0.016240</td>\n",
       "      <td>-0.018595</td>\n",
       "      <td>-0.002874</td>\n",
       "      <td>-0.014201</td>\n",
       "      <td>-0.021267</td>\n",
       "      <td>-0.024776</td>\n",
       "      <td>-0.016264</td>\n",
       "      <td>-0.040834</td>\n",
       "      <td>...</td>\n",
       "      <td>-9.532685e-03</td>\n",
       "      <td>-0.006588</td>\n",
       "      <td>0.004265</td>\n",
       "      <td>0.009608</td>\n",
       "      <td>-0.003889</td>\n",
       "      <td>-0.005783</td>\n",
       "      <td>-0.009350</td>\n",
       "      <td>-0.006344</td>\n",
       "      <td>0.004320</td>\n",
       "      <td>-9.532685e-03</td>\n",
       "    </tr>\n",
       "    <tr>\n",
       "      <th>Seafood</th>\n",
       "      <td>-4.999445e-03</td>\n",
       "      <td>0.012594</td>\n",
       "      <td>0.014910</td>\n",
       "      <td>0.001186</td>\n",
       "      <td>-0.001013</td>\n",
       "      <td>-0.009207</td>\n",
       "      <td>0.007380</td>\n",
       "      <td>-0.015152</td>\n",
       "      <td>-0.009946</td>\n",
       "      <td>-0.024972</td>\n",
       "      <td>...</td>\n",
       "      <td>-9.133433e-05</td>\n",
       "      <td>0.004431</td>\n",
       "      <td>0.008827</td>\n",
       "      <td>-0.004287</td>\n",
       "      <td>0.000072</td>\n",
       "      <td>0.003150</td>\n",
       "      <td>-0.005998</td>\n",
       "      <td>-0.005367</td>\n",
       "      <td>0.000138</td>\n",
       "      <td>-9.133433e-05</td>\n",
       "    </tr>\n",
       "    <tr>\n",
       "      <th>Snack Foods</th>\n",
       "      <td>1.027142e-02</td>\n",
       "      <td>0.059848</td>\n",
       "      <td>0.005635</td>\n",
       "      <td>0.033817</td>\n",
       "      <td>0.002650</td>\n",
       "      <td>-0.002811</td>\n",
       "      <td>0.022782</td>\n",
       "      <td>-0.070514</td>\n",
       "      <td>-0.046288</td>\n",
       "      <td>-0.116217</td>\n",
       "      <td>...</td>\n",
       "      <td>5.781569e-03</td>\n",
       "      <td>0.009803</td>\n",
       "      <td>0.002382</td>\n",
       "      <td>-0.011836</td>\n",
       "      <td>0.008721</td>\n",
       "      <td>0.006390</td>\n",
       "      <td>-0.004603</td>\n",
       "      <td>-0.000154</td>\n",
       "      <td>0.001453</td>\n",
       "      <td>5.781569e-03</td>\n",
       "    </tr>\n",
       "    <tr>\n",
       "      <th>Soft Drinks</th>\n",
       "      <td>-4.715459e-02</td>\n",
       "      <td>-0.094875</td>\n",
       "      <td>-0.009825</td>\n",
       "      <td>-0.035808</td>\n",
       "      <td>0.007486</td>\n",
       "      <td>-0.000861</td>\n",
       "      <td>-0.024040</td>\n",
       "      <td>-0.040885</td>\n",
       "      <td>-0.026838</td>\n",
       "      <td>-0.067383</td>\n",
       "      <td>...</td>\n",
       "      <td>-6.443416e-03</td>\n",
       "      <td>0.005825</td>\n",
       "      <td>0.004223</td>\n",
       "      <td>-0.000942</td>\n",
       "      <td>-0.004325</td>\n",
       "      <td>0.013034</td>\n",
       "      <td>-0.007461</td>\n",
       "      <td>0.009777</td>\n",
       "      <td>-0.004153</td>\n",
       "      <td>-6.443416e-03</td>\n",
       "    </tr>\n",
       "    <tr>\n",
       "      <th>Starchy Foods</th>\n",
       "      <td>2.301935e-02</td>\n",
       "      <td>0.025945</td>\n",
       "      <td>0.003688</td>\n",
       "      <td>0.014613</td>\n",
       "      <td>0.011897</td>\n",
       "      <td>0.009401</td>\n",
       "      <td>0.015039</td>\n",
       "      <td>-0.023156</td>\n",
       "      <td>-0.015201</td>\n",
       "      <td>-0.038165</td>\n",
       "      <td>...</td>\n",
       "      <td>-6.426649e-03</td>\n",
       "      <td>0.008213</td>\n",
       "      <td>-0.000380</td>\n",
       "      <td>-0.003311</td>\n",
       "      <td>0.002451</td>\n",
       "      <td>0.008884</td>\n",
       "      <td>0.001523</td>\n",
       "      <td>0.013516</td>\n",
       "      <td>0.002553</td>\n",
       "      <td>-6.426649e-03</td>\n",
       "    </tr>\n",
       "    <tr>\n",
       "      <th>OUT013</th>\n",
       "      <td>1.231336e-02</td>\n",
       "      <td>-0.002132</td>\n",
       "      <td>-0.041937</td>\n",
       "      <td>0.002438</td>\n",
       "      <td>-0.453388</td>\n",
       "      <td>0.683424</td>\n",
       "      <td>0.024170</td>\n",
       "      <td>-0.005442</td>\n",
       "      <td>0.003236</td>\n",
       "      <td>-0.008461</td>\n",
       "      <td>...</td>\n",
       "      <td>-1.229987e-01</td>\n",
       "      <td>-0.122629</td>\n",
       "      <td>-0.122555</td>\n",
       "      <td>-0.122629</td>\n",
       "      <td>-0.122629</td>\n",
       "      <td>-0.244113</td>\n",
       "      <td>0.435419</td>\n",
       "      <td>0.254668</td>\n",
       "      <td>-0.122481</td>\n",
       "      <td>-1.229987e-01</td>\n",
       "    </tr>\n",
       "    <tr>\n",
       "      <th>OUT017</th>\n",
       "      <td>-2.559191e-03</td>\n",
       "      <td>0.004266</td>\n",
       "      <td>-0.032179</td>\n",
       "      <td>-0.008812</td>\n",
       "      <td>0.382361</td>\n",
       "      <td>0.099355</td>\n",
       "      <td>0.032610</td>\n",
       "      <td>-0.011754</td>\n",
       "      <td>0.000163</td>\n",
       "      <td>-0.002149</td>\n",
       "      <td>...</td>\n",
       "      <td>-1.225537e-01</td>\n",
       "      <td>-0.122185</td>\n",
       "      <td>-0.122112</td>\n",
       "      <td>-0.122185</td>\n",
       "      <td>-0.122185</td>\n",
       "      <td>0.501132</td>\n",
       "      <td>-0.280954</td>\n",
       "      <td>0.253747</td>\n",
       "      <td>-0.122038</td>\n",
       "      <td>-1.225537e-01</td>\n",
       "    </tr>\n",
       "    <tr>\n",
       "      <th>OUT018</th>\n",
       "      <td>1.298715e-03</td>\n",
       "      <td>0.002129</td>\n",
       "      <td>-0.034671</td>\n",
       "      <td>0.003850</td>\n",
       "      <td>0.466336</td>\n",
       "      <td>0.099476</td>\n",
       "      <td>-0.038059</td>\n",
       "      <td>-0.000734</td>\n",
       "      <td>0.000077</td>\n",
       "      <td>0.010418</td>\n",
       "      <td>...</td>\n",
       "      <td>-1.227022e-01</td>\n",
       "      <td>-0.122333</td>\n",
       "      <td>-0.122260</td>\n",
       "      <td>-0.122333</td>\n",
       "      <td>-0.122333</td>\n",
       "      <td>-0.243524</td>\n",
       "      <td>0.434369</td>\n",
       "      <td>-0.480943</td>\n",
       "      <td>1.000000</td>\n",
       "      <td>-1.227022e-01</td>\n",
       "    </tr>\n",
       "    <tr>\n",
       "      <th>OUT019</th>\n",
       "      <td>-9.275597e-09</td>\n",
       "      <td>-0.004300</td>\n",
       "      <td>0.210736</td>\n",
       "      <td>-0.004976</td>\n",
       "      <td>-0.393918</td>\n",
       "      <td>-0.354967</td>\n",
       "      <td>-0.277250</td>\n",
       "      <td>0.001297</td>\n",
       "      <td>0.013736</td>\n",
       "      <td>-0.004047</td>\n",
       "      <td>...</td>\n",
       "      <td>-9.020900e-02</td>\n",
       "      <td>-0.089938</td>\n",
       "      <td>-0.089884</td>\n",
       "      <td>-0.089938</td>\n",
       "      <td>-0.089938</td>\n",
       "      <td>-0.179036</td>\n",
       "      <td>-0.206804</td>\n",
       "      <td>-0.353583</td>\n",
       "      <td>-0.089829</td>\n",
       "      <td>-9.020900e-02</td>\n",
       "    </tr>\n",
       "    <tr>\n",
       "      <th>OUT027</th>\n",
       "      <td>-1.266999e-08</td>\n",
       "      <td>0.000183</td>\n",
       "      <td>-0.051144</td>\n",
       "      <td>-0.006714</td>\n",
       "      <td>-0.538072</td>\n",
       "      <td>0.099896</td>\n",
       "      <td>0.311192</td>\n",
       "      <td>0.007693</td>\n",
       "      <td>-0.003550</td>\n",
       "      <td>0.001136</td>\n",
       "      <td>...</td>\n",
       "      <td>1.000000e+00</td>\n",
       "      <td>-0.122850</td>\n",
       "      <td>-0.122776</td>\n",
       "      <td>-0.122850</td>\n",
       "      <td>-0.122850</td>\n",
       "      <td>-0.244554</td>\n",
       "      <td>0.436205</td>\n",
       "      <td>-0.482977</td>\n",
       "      <td>-0.122702</td>\n",
       "      <td>1.000000e+00</td>\n",
       "    </tr>\n",
       "    <tr>\n",
       "      <th>OUT035</th>\n",
       "      <td>-2.343356e-03</td>\n",
       "      <td>-0.003154</td>\n",
       "      <td>-0.033025</td>\n",
       "      <td>0.011969</td>\n",
       "      <td>0.257868</td>\n",
       "      <td>-0.483409</td>\n",
       "      <td>0.052823</td>\n",
       "      <td>0.003588</td>\n",
       "      <td>-0.006677</td>\n",
       "      <td>0.011611</td>\n",
       "      <td>...</td>\n",
       "      <td>-1.228505e-01</td>\n",
       "      <td>1.000000</td>\n",
       "      <td>-0.122407</td>\n",
       "      <td>-0.122481</td>\n",
       "      <td>-0.122481</td>\n",
       "      <td>0.502345</td>\n",
       "      <td>-0.281635</td>\n",
       "      <td>0.254361</td>\n",
       "      <td>-0.122333</td>\n",
       "      <td>-1.228505e-01</td>\n",
       "    </tr>\n",
       "    <tr>\n",
       "      <th>OUT045</th>\n",
       "      <td>-1.718700e-02</td>\n",
       "      <td>-0.006029</td>\n",
       "      <td>-0.038353</td>\n",
       "      <td>-0.000239</td>\n",
       "      <td>0.174150</td>\n",
       "      <td>0.099536</td>\n",
       "      <td>0.002274</td>\n",
       "      <td>0.012563</td>\n",
       "      <td>-0.006638</td>\n",
       "      <td>0.004627</td>\n",
       "      <td>...</td>\n",
       "      <td>-1.227763e-01</td>\n",
       "      <td>-0.122407</td>\n",
       "      <td>1.000000</td>\n",
       "      <td>-0.122407</td>\n",
       "      <td>-0.122407</td>\n",
       "      <td>0.502042</td>\n",
       "      <td>-0.281465</td>\n",
       "      <td>0.254208</td>\n",
       "      <td>-0.122260</td>\n",
       "      <td>-1.227763e-01</td>\n",
       "    </tr>\n",
       "    <tr>\n",
       "      <th>OUT046</th>\n",
       "      <td>7.582635e-04</td>\n",
       "      <td>0.003147</td>\n",
       "      <td>-0.038444</td>\n",
       "      <td>0.005983</td>\n",
       "      <td>-0.034777</td>\n",
       "      <td>-0.483409</td>\n",
       "      <td>0.019803</td>\n",
       "      <td>-0.003090</td>\n",
       "      <td>-0.006677</td>\n",
       "      <td>0.001679</td>\n",
       "      <td>...</td>\n",
       "      <td>-1.228505e-01</td>\n",
       "      <td>-0.122481</td>\n",
       "      <td>-0.122407</td>\n",
       "      <td>1.000000</td>\n",
       "      <td>-0.122481</td>\n",
       "      <td>-0.243819</td>\n",
       "      <td>-0.281635</td>\n",
       "      <td>0.254361</td>\n",
       "      <td>-0.122333</td>\n",
       "      <td>-1.228505e-01</td>\n",
       "    </tr>\n",
       "    <tr>\n",
       "      <th>OUT049</th>\n",
       "      <td>4.952530e-03</td>\n",
       "      <td>0.004722</td>\n",
       "      <td>-0.036130</td>\n",
       "      <td>-0.003906</td>\n",
       "      <td>0.048836</td>\n",
       "      <td>0.099596</td>\n",
       "      <td>0.034264</td>\n",
       "      <td>-0.005316</td>\n",
       "      <td>0.003325</td>\n",
       "      <td>-0.005415</td>\n",
       "      <td>...</td>\n",
       "      <td>-1.228505e-01</td>\n",
       "      <td>-0.122481</td>\n",
       "      <td>-0.122407</td>\n",
       "      <td>-0.122481</td>\n",
       "      <td>1.000000</td>\n",
       "      <td>-0.243819</td>\n",
       "      <td>-0.281635</td>\n",
       "      <td>0.254361</td>\n",
       "      <td>-0.122333</td>\n",
       "      <td>-1.228505e-01</td>\n",
       "    </tr>\n",
       "    <tr>\n",
       "      <th>Tier 2</th>\n",
       "      <td>-1.467532e-02</td>\n",
       "      <td>-0.003272</td>\n",
       "      <td>-0.068787</td>\n",
       "      <td>0.001951</td>\n",
       "      <td>0.540820</td>\n",
       "      <td>-0.189288</td>\n",
       "      <td>0.058261</td>\n",
       "      <td>0.002933</td>\n",
       "      <td>-0.008741</td>\n",
       "      <td>0.009366</td>\n",
       "      <td>...</td>\n",
       "      <td>-2.445538e-01</td>\n",
       "      <td>0.502345</td>\n",
       "      <td>0.502042</td>\n",
       "      <td>-0.243819</td>\n",
       "      <td>-0.243819</td>\n",
       "      <td>1.000000</td>\n",
       "      <td>-0.560639</td>\n",
       "      <td>0.506347</td>\n",
       "      <td>-0.243524</td>\n",
       "      <td>-2.445538e-01</td>\n",
       "    </tr>\n",
       "    <tr>\n",
       "      <th>Tier 3</th>\n",
       "      <td>1.044701e-02</td>\n",
       "      <td>0.000241</td>\n",
       "      <td>0.009650</td>\n",
       "      <td>-0.000744</td>\n",
       "      <td>-0.333895</td>\n",
       "      <td>0.601969</td>\n",
       "      <td>0.046376</td>\n",
       "      <td>0.001909</td>\n",
       "      <td>0.003754</td>\n",
       "      <td>-0.004612</td>\n",
       "      <td>...</td>\n",
       "      <td>4.362053e-01</td>\n",
       "      <td>-0.281635</td>\n",
       "      <td>-0.281465</td>\n",
       "      <td>-0.281635</td>\n",
       "      <td>-0.281635</td>\n",
       "      <td>-0.560639</td>\n",
       "      <td>1.000000</td>\n",
       "      <td>-0.636465</td>\n",
       "      <td>0.434369</td>\n",
       "      <td>4.362053e-01</td>\n",
       "    </tr>\n",
       "    <tr>\n",
       "      <th>Supermarket Type1</th>\n",
       "      <td>-2.649125e-03</td>\n",
       "      <td>0.000533</td>\n",
       "      <td>-0.144249</td>\n",
       "      <td>0.004885</td>\n",
       "      <td>0.245070</td>\n",
       "      <td>0.010163</td>\n",
       "      <td>0.108765</td>\n",
       "      <td>-0.006189</td>\n",
       "      <td>-0.008695</td>\n",
       "      <td>0.001236</td>\n",
       "      <td>...</td>\n",
       "      <td>-4.829766e-01</td>\n",
       "      <td>0.254361</td>\n",
       "      <td>0.254208</td>\n",
       "      <td>0.254361</td>\n",
       "      <td>0.254361</td>\n",
       "      <td>0.506347</td>\n",
       "      <td>-0.636465</td>\n",
       "      <td>1.000000</td>\n",
       "      <td>-0.480943</td>\n",
       "      <td>-4.829766e-01</td>\n",
       "    </tr>\n",
       "    <tr>\n",
       "      <th>Supermarket Type2</th>\n",
       "      <td>1.298715e-03</td>\n",
       "      <td>0.002129</td>\n",
       "      <td>-0.034671</td>\n",
       "      <td>0.003850</td>\n",
       "      <td>0.466336</td>\n",
       "      <td>0.099476</td>\n",
       "      <td>-0.038059</td>\n",
       "      <td>-0.000734</td>\n",
       "      <td>0.000077</td>\n",
       "      <td>0.010418</td>\n",
       "      <td>...</td>\n",
       "      <td>-1.227022e-01</td>\n",
       "      <td>-0.122333</td>\n",
       "      <td>-0.122260</td>\n",
       "      <td>-0.122333</td>\n",
       "      <td>-0.122333</td>\n",
       "      <td>-0.243524</td>\n",
       "      <td>0.434369</td>\n",
       "      <td>-0.480943</td>\n",
       "      <td>1.000000</td>\n",
       "      <td>-1.227022e-01</td>\n",
       "    </tr>\n",
       "    <tr>\n",
       "      <th>Supermarket Type3</th>\n",
       "      <td>-1.266999e-08</td>\n",
       "      <td>0.000183</td>\n",
       "      <td>-0.051144</td>\n",
       "      <td>-0.006714</td>\n",
       "      <td>-0.538072</td>\n",
       "      <td>0.099896</td>\n",
       "      <td>0.311192</td>\n",
       "      <td>0.007693</td>\n",
       "      <td>-0.003550</td>\n",
       "      <td>0.001136</td>\n",
       "      <td>...</td>\n",
       "      <td>1.000000e+00</td>\n",
       "      <td>-0.122850</td>\n",
       "      <td>-0.122776</td>\n",
       "      <td>-0.122850</td>\n",
       "      <td>-0.122850</td>\n",
       "      <td>-0.244554</td>\n",
       "      <td>0.436205</td>\n",
       "      <td>-0.482977</td>\n",
       "      <td>-0.122702</td>\n",
       "      <td>1.000000e+00</td>\n",
       "    </tr>\n",
       "  </tbody>\n",
       "</table>\n",
       "<p>36 rows × 36 columns</p>\n",
       "</div>"
      ],
      "text/plain": [
       "                            Item_Weight  Item_Fat_Content  Item_Visibility  \\\n",
       "Item_Weight                1.000000e+00         -0.021157        -0.012049   \n",
       "Item_Fat_Content          -2.115731e-02          1.000000         0.047314   \n",
       "Item_Visibility           -1.204853e-02          0.047314         1.000000   \n",
       "Item_MRP                   2.475610e-02          0.006063        -0.001315   \n",
       "Outlet_Establishment_Year -8.300825e-03          0.003151        -0.074834   \n",
       "Outlet_Size                7.224744e-03          0.000622        -0.069309   \n",
       "Item_Outlet_Sales          1.155000e-02          0.018719        -0.128625   \n",
       "Breads                    -5.061184e-02          0.032643         0.000416   \n",
       "Breakfast                 -1.958157e-03          0.065711         0.043418   \n",
       "Canned                    -3.114182e-02          0.073235         0.011114   \n",
       "Dairy                      3.292259e-02          0.021236         0.035984   \n",
       "Frozen Foods               6.244953e-04          0.085041        -0.003153   \n",
       "Fruits and Vegetables      2.953735e-02          0.116955         0.018969   \n",
       "Hard Drinks               -4.732681e-02         -0.118461        -0.003700   \n",
       "Health and Hygiene         1.419919e-02         -0.188156        -0.053931   \n",
       "Household                  3.596767e-02         -0.255203        -0.032230   \n",
       "Meat                      -1.732389e-03          0.118574        -0.017087   \n",
       "Others                     2.716535e-02         -0.104988        -0.016240   \n",
       "Seafood                   -4.999445e-03          0.012594         0.014910   \n",
       "Snack Foods                1.027142e-02          0.059848         0.005635   \n",
       "Soft Drinks               -4.715459e-02         -0.094875        -0.009825   \n",
       "Starchy Foods              2.301935e-02          0.025945         0.003688   \n",
       "OUT013                     1.231336e-02         -0.002132        -0.041937   \n",
       "OUT017                    -2.559191e-03          0.004266        -0.032179   \n",
       "OUT018                     1.298715e-03          0.002129        -0.034671   \n",
       "OUT019                    -9.275597e-09         -0.004300         0.210736   \n",
       "OUT027                    -1.266999e-08          0.000183        -0.051144   \n",
       "OUT035                    -2.343356e-03         -0.003154        -0.033025   \n",
       "OUT045                    -1.718700e-02         -0.006029        -0.038353   \n",
       "OUT046                     7.582635e-04          0.003147        -0.038444   \n",
       "OUT049                     4.952530e-03          0.004722        -0.036130   \n",
       "Tier 2                    -1.467532e-02         -0.003272        -0.068787   \n",
       "Tier 3                     1.044701e-02          0.000241         0.009650   \n",
       "Supermarket Type1         -2.649125e-03          0.000533        -0.144249   \n",
       "Supermarket Type2          1.298715e-03          0.002129        -0.034671   \n",
       "Supermarket Type3         -1.266999e-08          0.000183        -0.051144   \n",
       "\n",
       "                           Item_MRP  Outlet_Establishment_Year  Outlet_Size  \\\n",
       "Item_Weight                0.024756                  -0.008301     0.007225   \n",
       "Item_Fat_Content           0.006063                   0.003151     0.000622   \n",
       "Item_Visibility           -0.001315                  -0.074834    -0.069309   \n",
       "Item_MRP                   1.000000                   0.005020    -0.006059   \n",
       "Outlet_Establishment_Year  0.005020                   1.000000    -0.193389   \n",
       "Outlet_Size               -0.006059                  -0.193389     1.000000   \n",
       "Item_Outlet_Sales          0.567574                  -0.049135     0.086182   \n",
       "Breads                    -0.000112                  -0.003631    -0.003608   \n",
       "Breakfast                  0.001460                  -0.006768     0.003102   \n",
       "Canned                    -0.005666                   0.010998    -0.009676   \n",
       "Dairy                      0.035551                  -0.005286    -0.001075   \n",
       "Frozen Foods              -0.013358                   0.007690    -0.007002   \n",
       "Fruits and Vegetables      0.023688                  -0.005495     0.013598   \n",
       "Hard Drinks               -0.010089                   0.006627     0.011941   \n",
       "Health and Hygiene        -0.041646                  -0.002961     0.011296   \n",
       "Household                  0.046815                  -0.001951     0.000922   \n",
       "Meat                      -0.004086                  -0.013428    -0.004846   \n",
       "Others                    -0.018595                  -0.002874    -0.014201   \n",
       "Seafood                    0.001186                  -0.001013    -0.009207   \n",
       "Snack Foods                0.033817                   0.002650    -0.002811   \n",
       "Soft Drinks               -0.035808                   0.007486    -0.000861   \n",
       "Starchy Foods              0.014613                   0.011897     0.009401   \n",
       "OUT013                     0.002438                  -0.453388     0.683424   \n",
       "OUT017                    -0.008812                   0.382361     0.099355   \n",
       "OUT018                     0.003850                   0.466336     0.099476   \n",
       "OUT019                    -0.004976                  -0.393918    -0.354967   \n",
       "OUT027                    -0.006714                  -0.538072     0.099896   \n",
       "OUT035                     0.011969                   0.257868    -0.483409   \n",
       "OUT045                    -0.000239                   0.174150     0.099536   \n",
       "OUT046                     0.005983                  -0.034777    -0.483409   \n",
       "OUT049                    -0.003906                   0.048836     0.099596   \n",
       "Tier 2                     0.001951                   0.540820    -0.189288   \n",
       "Tier 3                    -0.000744                  -0.333895     0.601969   \n",
       "Supermarket Type1          0.004885                   0.245070     0.010163   \n",
       "Supermarket Type2          0.003850                   0.466336     0.099476   \n",
       "Supermarket Type3         -0.006714                  -0.538072     0.099896   \n",
       "\n",
       "                           Item_Outlet_Sales    Breads  Breakfast    Canned  \\\n",
       "Item_Weight                         0.011550 -0.050612  -0.001958 -0.031142   \n",
       "Item_Fat_Content                    0.018719  0.032643   0.065711  0.073235   \n",
       "Item_Visibility                    -0.128625  0.000416   0.043418  0.011114   \n",
       "Item_MRP                            0.567574 -0.000112   0.001460 -0.005666   \n",
       "Outlet_Establishment_Year          -0.049135 -0.003631  -0.006768  0.010998   \n",
       "Outlet_Size                         0.086182 -0.003608   0.003102 -0.009676   \n",
       "Item_Outlet_Sales                   1.000000  0.002332  -0.004656  0.007387   \n",
       "Breads                              0.002332  1.000000  -0.019918 -0.050010   \n",
       "Breakfast                          -0.004656 -0.019918   1.000000 -0.032828   \n",
       "Canned                              0.007387 -0.050010  -0.032828  1.000000   \n",
       "Dairy                               0.008858 -0.051373  -0.033723 -0.084670   \n",
       "Frozen Foods                       -0.009482 -0.058204  -0.038207 -0.095929   \n",
       "Fruits and Vegetables               0.025950 -0.071605  -0.047004 -0.118015   \n",
       "Hard Drinks                        -0.003956 -0.027955  -0.018351 -0.046074   \n",
       "Health and Hygiene                 -0.025587 -0.044402  -0.029147 -0.073181   \n",
       "Household                           0.015701 -0.060225  -0.039533 -0.099258   \n",
       "Meat                               -0.002995 -0.039906  -0.026195 -0.065770   \n",
       "Others                             -0.021267 -0.024776  -0.016264 -0.040834   \n",
       "Seafood                             0.007380 -0.015152  -0.009946 -0.024972   \n",
       "Snack Foods                         0.022782 -0.070514  -0.046288 -0.116217   \n",
       "Soft Drinks                        -0.024040 -0.040885  -0.026838 -0.067383   \n",
       "Starchy Foods                       0.015039 -0.023156  -0.015201 -0.038165   \n",
       "OUT013                              0.024170 -0.005442   0.003236 -0.008461   \n",
       "OUT017                              0.032610 -0.011754   0.000163 -0.002149   \n",
       "OUT018                             -0.038059 -0.000734   0.000077  0.010418   \n",
       "OUT019                             -0.277250  0.001297   0.013736 -0.004047   \n",
       "OUT027                              0.311192  0.007693  -0.003550  0.001136   \n",
       "OUT035                              0.052823  0.003588  -0.006677  0.011611   \n",
       "OUT045                              0.002274  0.012563  -0.006638  0.004627   \n",
       "OUT046                              0.019803 -0.003090  -0.006677  0.001679   \n",
       "OUT049                              0.034264 -0.005316   0.003325 -0.005415   \n",
       "Tier 2                              0.058261  0.002933  -0.008741  0.009366   \n",
       "Tier 3                              0.046376  0.001909   0.003754 -0.004612   \n",
       "Supermarket Type1                   0.108765 -0.006189  -0.008695  0.001236   \n",
       "Supermarket Type2                  -0.038059 -0.000734   0.000077  0.010418   \n",
       "Supermarket Type3                   0.311192  0.007693  -0.003550  0.001136   \n",
       "\n",
       "                           ...        OUT027    OUT035    OUT045    OUT046  \\\n",
       "Item_Weight                ... -1.266999e-08 -0.002343 -0.017187  0.000758   \n",
       "Item_Fat_Content           ...  1.825365e-04 -0.003154 -0.006029  0.003147   \n",
       "Item_Visibility            ... -5.114446e-02 -0.033025 -0.038353 -0.038444   \n",
       "Item_MRP                   ... -6.713699e-03  0.011969 -0.000239  0.005983   \n",
       "Outlet_Establishment_Year  ... -5.380723e-01  0.257868  0.174150 -0.034777   \n",
       "Outlet_Size                ...  9.989606e-02 -0.483409  0.099536 -0.483409   \n",
       "Item_Outlet_Sales          ...  3.111920e-01  0.052823  0.002274  0.019803   \n",
       "Breads                     ...  7.693473e-03  0.003588  0.012563 -0.003090   \n",
       "Breakfast                  ... -3.550234e-03 -0.006677 -0.006638 -0.006677   \n",
       "Canned                     ...  1.136135e-03  0.011611  0.004627  0.001679   \n",
       "Dairy                      ... -1.081723e-02 -0.004740 -0.007406  0.004969   \n",
       "Frozen Foods               ... -6.127626e-03 -0.001757 -0.015411  0.018274   \n",
       "Fruits and Vegetables      ...  5.173467e-03 -0.005813  0.009329 -0.009023   \n",
       "Hard Drinks                ... -1.143358e-03 -0.003249  0.011248 -0.008060   \n",
       "Health and Hygiene         ...  4.634023e-03 -0.010598 -0.002642 -0.001164   \n",
       "Household                  ... -1.008871e-03  0.003295 -0.000231  0.004514   \n",
       "Meat                       ...  1.617203e-02 -0.005834 -0.014399 -0.004105   \n",
       "Others                     ... -9.532685e-03 -0.006588  0.004265  0.009608   \n",
       "Seafood                    ... -9.133433e-05  0.004431  0.008827 -0.004287   \n",
       "Snack Foods                ...  5.781569e-03  0.009803  0.002382 -0.011836   \n",
       "Soft Drinks                ... -6.443416e-03  0.005825  0.004223 -0.000942   \n",
       "Starchy Foods              ... -6.426649e-03  0.008213 -0.000380 -0.003311   \n",
       "OUT013                     ... -1.229987e-01 -0.122629 -0.122555 -0.122629   \n",
       "OUT017                     ... -1.225537e-01 -0.122185 -0.122112 -0.122185   \n",
       "OUT018                     ... -1.227022e-01 -0.122333 -0.122260 -0.122333   \n",
       "OUT019                     ... -9.020900e-02 -0.089938 -0.089884 -0.089938   \n",
       "OUT027                     ...  1.000000e+00 -0.122850 -0.122776 -0.122850   \n",
       "OUT035                     ... -1.228505e-01  1.000000 -0.122407 -0.122481   \n",
       "OUT045                     ... -1.227763e-01 -0.122407  1.000000 -0.122407   \n",
       "OUT046                     ... -1.228505e-01 -0.122481 -0.122407  1.000000   \n",
       "OUT049                     ... -1.228505e-01 -0.122481 -0.122407 -0.122481   \n",
       "Tier 2                     ... -2.445538e-01  0.502345  0.502042 -0.243819   \n",
       "Tier 3                     ...  4.362053e-01 -0.281635 -0.281465 -0.281635   \n",
       "Supermarket Type1          ... -4.829766e-01  0.254361  0.254208  0.254361   \n",
       "Supermarket Type2          ... -1.227022e-01 -0.122333 -0.122260 -0.122333   \n",
       "Supermarket Type3          ...  1.000000e+00 -0.122850 -0.122776 -0.122850   \n",
       "\n",
       "                             OUT049    Tier 2    Tier 3  Supermarket Type1  \\\n",
       "Item_Weight                0.004953 -0.014675  0.010447          -0.002649   \n",
       "Item_Fat_Content           0.004722 -0.003272  0.000241           0.000533   \n",
       "Item_Visibility           -0.036130 -0.068787  0.009650          -0.144249   \n",
       "Item_MRP                  -0.003906  0.001951 -0.000744           0.004885   \n",
       "Outlet_Establishment_Year  0.048836  0.540820 -0.333895           0.245070   \n",
       "Outlet_Size                0.099596 -0.189288  0.601969           0.010163   \n",
       "Item_Outlet_Sales          0.034264  0.058261  0.046376           0.108765   \n",
       "Breads                    -0.005316  0.002933  0.001909          -0.006189   \n",
       "Breakfast                  0.003325 -0.008741  0.003754          -0.008695   \n",
       "Canned                    -0.005415  0.009366 -0.004612           0.001236   \n",
       "Dairy                      0.004969 -0.008162 -0.004482           0.003396   \n",
       "Frozen Foods              -0.000505 -0.000590 -0.007556           0.009750   \n",
       "Fruits and Vegetables      0.003819 -0.002541  0.008032          -0.000811   \n",
       "Hard Drinks                0.015993  0.003314 -0.000174           0.007837   \n",
       "Health and Hygiene        -0.007453 -0.004093  0.011654          -0.005422   \n",
       "Household                 -0.005235 -0.001097  0.004917           0.001234   \n",
       "Meat                       0.001081 -0.015945  0.010983          -0.023912   \n",
       "Others                    -0.003889 -0.005783 -0.009350          -0.006344   \n",
       "Seafood                    0.000072  0.003150 -0.005998          -0.005367   \n",
       "Snack Foods                0.008721  0.006390 -0.004603          -0.000154   \n",
       "Soft Drinks               -0.004325  0.013034 -0.007461           0.009777   \n",
       "Starchy Foods              0.002451  0.008884  0.001523           0.013516   \n",
       "OUT013                    -0.122629 -0.244113  0.435419           0.254668   \n",
       "OUT017                    -0.122185  0.501132 -0.280954           0.253747   \n",
       "OUT018                    -0.122333 -0.243524  0.434369          -0.480943   \n",
       "OUT019                    -0.089938 -0.179036 -0.206804          -0.353583   \n",
       "OUT027                    -0.122850 -0.244554  0.436205          -0.482977   \n",
       "OUT035                    -0.122481  0.502345 -0.281635           0.254361   \n",
       "OUT045                    -0.122407  0.502042 -0.281465           0.254208   \n",
       "OUT046                    -0.122481 -0.243819 -0.281635           0.254361   \n",
       "OUT049                     1.000000 -0.243819 -0.281635           0.254361   \n",
       "Tier 2                    -0.243819  1.000000 -0.560639           0.506347   \n",
       "Tier 3                    -0.281635 -0.560639  1.000000          -0.636465   \n",
       "Supermarket Type1          0.254361  0.506347 -0.636465           1.000000   \n",
       "Supermarket Type2         -0.122333 -0.243524  0.434369          -0.480943   \n",
       "Supermarket Type3         -0.122850 -0.244554  0.436205          -0.482977   \n",
       "\n",
       "                           Supermarket Type2  Supermarket Type3  \n",
       "Item_Weight                         0.001299      -1.266999e-08  \n",
       "Item_Fat_Content                    0.002129       1.825365e-04  \n",
       "Item_Visibility                    -0.034671      -5.114446e-02  \n",
       "Item_MRP                            0.003850      -6.713699e-03  \n",
       "Outlet_Establishment_Year           0.466336      -5.380723e-01  \n",
       "Outlet_Size                         0.099476       9.989606e-02  \n",
       "Item_Outlet_Sales                  -0.038059       3.111920e-01  \n",
       "Breads                             -0.000734       7.693473e-03  \n",
       "Breakfast                           0.000077      -3.550234e-03  \n",
       "Canned                              0.010418       1.136135e-03  \n",
       "Dairy                              -0.001746      -1.081723e-02  \n",
       "Frozen Foods                       -0.001507      -6.127626e-03  \n",
       "Fruits and Vegetables               0.000919       5.173467e-03  \n",
       "Hard Drinks                        -0.003132      -1.143358e-03  \n",
       "Health and Hygiene                  0.002174       4.634023e-03  \n",
       "Household                          -0.004979      -1.008871e-03  \n",
       "Meat                               -0.000476       1.617203e-02  \n",
       "Others                              0.004320      -9.532685e-03  \n",
       "Seafood                             0.000138      -9.133433e-05  \n",
       "Snack Foods                         0.001453       5.781569e-03  \n",
       "Soft Drinks                        -0.004153      -6.443416e-03  \n",
       "Starchy Foods                       0.002553      -6.426649e-03  \n",
       "OUT013                             -0.122481      -1.229987e-01  \n",
       "OUT017                             -0.122038      -1.225537e-01  \n",
       "OUT018                              1.000000      -1.227022e-01  \n",
       "OUT019                             -0.089829      -9.020900e-02  \n",
       "OUT027                             -0.122702       1.000000e+00  \n",
       "OUT035                             -0.122333      -1.228505e-01  \n",
       "OUT045                             -0.122260      -1.227763e-01  \n",
       "OUT046                             -0.122333      -1.228505e-01  \n",
       "OUT049                             -0.122333      -1.228505e-01  \n",
       "Tier 2                             -0.243524      -2.445538e-01  \n",
       "Tier 3                              0.434369       4.362053e-01  \n",
       "Supermarket Type1                  -0.480943      -4.829766e-01  \n",
       "Supermarket Type2                   1.000000      -1.227022e-01  \n",
       "Supermarket Type3                  -0.122702       1.000000e+00  \n",
       "\n",
       "[36 rows x 36 columns]"
      ]
     },
     "execution_count": 287,
     "metadata": {},
     "output_type": "execute_result"
    }
   ],
   "source": [
    "df_new.corr()"
   ]
  },
  {
   "cell_type": "code",
   "execution_count": 288,
   "id": "5db89284",
   "metadata": {},
   "outputs": [
    {
     "data": {
      "text/plain": [
       "<AxesSubplot:ylabel='Frequency'>"
      ]
     },
     "execution_count": 288,
     "metadata": {},
     "output_type": "execute_result"
    },
    {
     "data": {
      "text/plain": [
       "<Figure size 1584x1296 with 0 Axes>"
      ]
     },
     "metadata": {},
     "output_type": "display_data"
    },
    {
     "data": {
      "image/png": "[encoded data removed]",
      "text/plain": [
       "<Figure size 432x288 with 1 Axes>"
      ]
     },
     "metadata": {
      "needs_background": "light"
     },
     "output_type": "display_data"
    }
   ],
   "source": [
    "plt.figure(figsize=(22,18))\n",
    "df_new.plot(kind='hist')"
   ]
  },
  {
   "cell_type": "code",
   "execution_count": 289,
   "id": "99631fa0",
   "metadata": {
    "scrolled": true
   },
   "outputs": [
    {
     "data": {
      "text/html": [
       "<div>\n",
       "<style scoped>\n",
       "    .dataframe tbody tr th:only-of-type {\n",
       "        vertical-align: middle;\n",
       "    }\n",
       "\n",
       "    .dataframe tbody tr th {\n",
       "        vertical-align: top;\n",
       "    }\n",
       "\n",
       "    .dataframe thead th {\n",
       "        text-align: right;\n",
       "    }\n",
       "</style>\n",
       "<table border=\"1\" class=\"dataframe\">\n",
       "  <thead>\n",
       "    <tr style=\"text-align: right;\">\n",
       "      <th></th>\n",
       "      <th>Item_Weight</th>\n",
       "      <th>Item_Fat_Content</th>\n",
       "      <th>Item_Visibility</th>\n",
       "      <th>Item_MRP</th>\n",
       "      <th>Outlet_Establishment_Year</th>\n",
       "      <th>Outlet_Size</th>\n",
       "      <th>Item_Outlet_Sales</th>\n",
       "      <th>Breads</th>\n",
       "      <th>Breakfast</th>\n",
       "      <th>Canned</th>\n",
       "      <th>...</th>\n",
       "      <th>OUT027</th>\n",
       "      <th>OUT035</th>\n",
       "      <th>OUT045</th>\n",
       "      <th>OUT046</th>\n",
       "      <th>OUT049</th>\n",
       "      <th>Tier 2</th>\n",
       "      <th>Tier 3</th>\n",
       "      <th>Supermarket Type1</th>\n",
       "      <th>Supermarket Type2</th>\n",
       "      <th>Supermarket Type3</th>\n",
       "    </tr>\n",
       "  </thead>\n",
       "  <tbody>\n",
       "    <tr>\n",
       "      <th>0</th>\n",
       "      <td>9.30</td>\n",
       "      <td>0</td>\n",
       "      <td>0.016047</td>\n",
       "      <td>249.8092</td>\n",
       "      <td>1999</td>\n",
       "      <td>1.0</td>\n",
       "      <td>3735.1380</td>\n",
       "      <td>0.0</td>\n",
       "      <td>0.0</td>\n",
       "      <td>0.0</td>\n",
       "      <td>...</td>\n",
       "      <td>0.0</td>\n",
       "      <td>0.0</td>\n",
       "      <td>0.0</td>\n",
       "      <td>0.0</td>\n",
       "      <td>1.0</td>\n",
       "      <td>0.0</td>\n",
       "      <td>0.0</td>\n",
       "      <td>1.0</td>\n",
       "      <td>0.0</td>\n",
       "      <td>0.0</td>\n",
       "    </tr>\n",
       "    <tr>\n",
       "      <th>1</th>\n",
       "      <td>5.92</td>\n",
       "      <td>1</td>\n",
       "      <td>0.019278</td>\n",
       "      <td>48.2692</td>\n",
       "      <td>2009</td>\n",
       "      <td>1.0</td>\n",
       "      <td>443.4228</td>\n",
       "      <td>0.0</td>\n",
       "      <td>0.0</td>\n",
       "      <td>0.0</td>\n",
       "      <td>...</td>\n",
       "      <td>0.0</td>\n",
       "      <td>0.0</td>\n",
       "      <td>0.0</td>\n",
       "      <td>0.0</td>\n",
       "      <td>0.0</td>\n",
       "      <td>0.0</td>\n",
       "      <td>1.0</td>\n",
       "      <td>0.0</td>\n",
       "      <td>1.0</td>\n",
       "      <td>0.0</td>\n",
       "    </tr>\n",
       "    <tr>\n",
       "      <th>2</th>\n",
       "      <td>17.50</td>\n",
       "      <td>0</td>\n",
       "      <td>0.016760</td>\n",
       "      <td>141.6180</td>\n",
       "      <td>1999</td>\n",
       "      <td>1.0</td>\n",
       "      <td>2097.2700</td>\n",
       "      <td>0.0</td>\n",
       "      <td>0.0</td>\n",
       "      <td>0.0</td>\n",
       "      <td>...</td>\n",
       "      <td>0.0</td>\n",
       "      <td>0.0</td>\n",
       "      <td>0.0</td>\n",
       "      <td>0.0</td>\n",
       "      <td>1.0</td>\n",
       "      <td>0.0</td>\n",
       "      <td>0.0</td>\n",
       "      <td>1.0</td>\n",
       "      <td>0.0</td>\n",
       "      <td>0.0</td>\n",
       "    </tr>\n",
       "    <tr>\n",
       "      <th>3</th>\n",
       "      <td>19.20</td>\n",
       "      <td>1</td>\n",
       "      <td>0.000000</td>\n",
       "      <td>182.0950</td>\n",
       "      <td>1998</td>\n",
       "      <td>1.0</td>\n",
       "      <td>732.3800</td>\n",
       "      <td>0.0</td>\n",
       "      <td>0.0</td>\n",
       "      <td>0.0</td>\n",
       "      <td>...</td>\n",
       "      <td>0.0</td>\n",
       "      <td>0.0</td>\n",
       "      <td>0.0</td>\n",
       "      <td>0.0</td>\n",
       "      <td>0.0</td>\n",
       "      <td>0.0</td>\n",
       "      <td>1.0</td>\n",
       "      <td>0.0</td>\n",
       "      <td>0.0</td>\n",
       "      <td>0.0</td>\n",
       "    </tr>\n",
       "    <tr>\n",
       "      <th>4</th>\n",
       "      <td>8.93</td>\n",
       "      <td>0</td>\n",
       "      <td>0.000000</td>\n",
       "      <td>53.8614</td>\n",
       "      <td>1987</td>\n",
       "      <td>2.0</td>\n",
       "      <td>994.7052</td>\n",
       "      <td>0.0</td>\n",
       "      <td>0.0</td>\n",
       "      <td>0.0</td>\n",
       "      <td>...</td>\n",
       "      <td>0.0</td>\n",
       "      <td>0.0</td>\n",
       "      <td>0.0</td>\n",
       "      <td>0.0</td>\n",
       "      <td>0.0</td>\n",
       "      <td>0.0</td>\n",
       "      <td>1.0</td>\n",
       "      <td>1.0</td>\n",
       "      <td>0.0</td>\n",
       "      <td>0.0</td>\n",
       "    </tr>\n",
       "  </tbody>\n",
       "</table>\n",
       "<p>5 rows × 36 columns</p>\n",
       "</div>"
      ],
      "text/plain": [
       "   Item_Weight  Item_Fat_Content  Item_Visibility  Item_MRP  \\\n",
       "0         9.30                 0         0.016047  249.8092   \n",
       "1         5.92                 1         0.019278   48.2692   \n",
       "2        17.50                 0         0.016760  141.6180   \n",
       "3        19.20                 1         0.000000  182.0950   \n",
       "4         8.93                 0         0.000000   53.8614   \n",
       "\n",
       "   Outlet_Establishment_Year  Outlet_Size  Item_Outlet_Sales  Breads  \\\n",
       "0                       1999          1.0          3735.1380     0.0   \n",
       "1                       2009          1.0           443.4228     0.0   \n",
       "2                       1999          1.0          2097.2700     0.0   \n",
       "3                       1998          1.0           732.3800     0.0   \n",
       "4                       1987          2.0           994.7052     0.0   \n",
       "\n",
       "   Breakfast  Canned  ...  OUT027  OUT035  OUT045  OUT046  OUT049  Tier 2  \\\n",
       "0        0.0     0.0  ...     0.0     0.0     0.0     0.0     1.0     0.0   \n",
       "1        0.0     0.0  ...     0.0     0.0     0.0     0.0     0.0     0.0   \n",
       "2        0.0     0.0  ...     0.0     0.0     0.0     0.0     1.0     0.0   \n",
       "3        0.0     0.0  ...     0.0     0.0     0.0     0.0     0.0     0.0   \n",
       "4        0.0     0.0  ...     0.0     0.0     0.0     0.0     0.0     0.0   \n",
       "\n",
       "   Tier 3  Supermarket Type1  Supermarket Type2  Supermarket Type3  \n",
       "0     0.0                1.0                0.0                0.0  \n",
       "1     1.0                0.0                1.0                0.0  \n",
       "2     0.0                1.0                0.0                0.0  \n",
       "3     1.0                0.0                0.0                0.0  \n",
       "4     1.0                1.0                0.0                0.0  \n",
       "\n",
       "[5 rows x 36 columns]"
      ]
     },
     "execution_count": 289,
     "metadata": {},
     "output_type": "execute_result"
    }
   ],
   "source": [
    "df_new.head()"
   ]
  },
  {
   "cell_type": "code",
   "execution_count": 290,
   "id": "b6db9cb4",
   "metadata": {},
   "outputs": [
    {
     "name": "stdout",
     "output_type": "stream",
     "text": [
      "<class 'pandas.core.frame.DataFrame'>\n",
      "RangeIndex: 8523 entries, 0 to 8522\n",
      "Data columns (total 36 columns):\n",
      " #   Column                     Non-Null Count  Dtype  \n",
      "---  ------                     --------------  -----  \n",
      " 0   Item_Weight                8523 non-null   float64\n",
      " 1   Item_Fat_Content           8523 non-null   int64  \n",
      " 2   Item_Visibility            8523 non-null   float64\n",
      " 3   Item_MRP                   8523 non-null   float64\n",
      " 4   Outlet_Establishment_Year  8523 non-null   int64  \n",
      " 5   Outlet_Size                8523 non-null   float64\n",
      " 6   Item_Outlet_Sales          8523 non-null   float64\n",
      " 7   Breads                     8523 non-null   float64\n",
      " 8   Breakfast                  8523 non-null   float64\n",
      " 9   Canned                     8523 non-null   float64\n",
      " 10  Dairy                      8523 non-null   float64\n",
      " 11  Frozen Foods               8523 non-null   float64\n",
      " 12  Fruits and Vegetables      8523 non-null   float64\n",
      " 13  Hard Drinks                8523 non-null   float64\n",
      " 14  Health and Hygiene         8523 non-null   float64\n",
      " 15  Household                  8523 non-null   float64\n",
      " 16  Meat                       8523 non-null   float64\n",
      " 17  Others                     8523 non-null   float64\n",
      " 18  Seafood                    8523 non-null   float64\n",
      " 19  Snack Foods                8523 non-null   float64\n",
      " 20  Soft Drinks                8523 non-null   float64\n",
      " 21  Starchy Foods              8523 non-null   float64\n",
      " 22  OUT013                     8523 non-null   float64\n",
      " 23  OUT017                     8523 non-null   float64\n",
      " 24  OUT018                     8523 non-null   float64\n",
      " 25  OUT019                     8523 non-null   float64\n",
      " 26  OUT027                     8523 non-null   float64\n",
      " 27  OUT035                     8523 non-null   float64\n",
      " 28  OUT045                     8523 non-null   float64\n",
      " 29  OUT046                     8523 non-null   float64\n",
      " 30  OUT049                     8523 non-null   float64\n",
      " 31  Tier 2                     8523 non-null   float64\n",
      " 32  Tier 3                     8523 non-null   float64\n",
      " 33  Supermarket Type1          8523 non-null   float64\n",
      " 34  Supermarket Type2          8523 non-null   float64\n",
      " 35  Supermarket Type3          8523 non-null   float64\n",
      "dtypes: float64(34), int64(2)\n",
      "memory usage: 2.3 MB\n"
     ]
    }
   ],
   "source": [
    "df_new.info()"
   ]
  },
  {
   "cell_type": "code",
   "execution_count": 291,
   "id": "5befb5df",
   "metadata": {},
   "outputs": [],
   "source": [
    "import warnings\n",
    "warnings.filterwarnings('ignore')"
   ]
  },
  {
   "cell_type": "code",
   "execution_count": 292,
   "id": "14bbd248",
   "metadata": {},
   "outputs": [
    {
     "data": {
      "image/png": "[encoded data removed]",
      "text/plain": [
       "<Figure size 1440x360 with 4 Axes>"
      ]
     },
     "metadata": {
      "needs_background": "light"
     },
     "output_type": "display_data"
    }
   ],
   "source": [
    "plt.figure(figsize=(20,5))\n",
    "plt.subplot(1,4,1)\n",
    "sns.distplot(df['Item_Weight'])\n",
    "\n",
    "plt.subplot(1,4,2)\n",
    "sns.distplot(df['Item_Visibility'])\n",
    "\n",
    "plt.subplot(1,4,3)\n",
    "sns.distplot(df['Item_MRP'])\n",
    "\n",
    "plt.subplot(1,4,4)\n",
    "sns.distplot(df['Outlet_Establishment_Year'])\n",
    "\n",
    "plt.show()"
   ]
  },
  {
   "cell_type": "code",
   "execution_count": 293,
   "id": "e5782733",
   "metadata": {},
   "outputs": [
    {
     "data": {
      "text/html": [
       "<div>\n",
       "<style scoped>\n",
       "    .dataframe tbody tr th:only-of-type {\n",
       "        vertical-align: middle;\n",
       "    }\n",
       "\n",
       "    .dataframe tbody tr th {\n",
       "        vertical-align: top;\n",
       "    }\n",
       "\n",
       "    .dataframe thead th {\n",
       "        text-align: right;\n",
       "    }\n",
       "</style>\n",
       "<table border=\"1\" class=\"dataframe\">\n",
       "  <thead>\n",
       "    <tr style=\"text-align: right;\">\n",
       "      <th></th>\n",
       "      <th>Item_Weight</th>\n",
       "      <th>Item_Fat_Content</th>\n",
       "      <th>Item_Visibility</th>\n",
       "      <th>Item_MRP</th>\n",
       "      <th>Outlet_Establishment_Year</th>\n",
       "      <th>Outlet_Size</th>\n",
       "      <th>Item_Outlet_Sales</th>\n",
       "      <th>Breads</th>\n",
       "      <th>Breakfast</th>\n",
       "      <th>Canned</th>\n",
       "      <th>...</th>\n",
       "      <th>OUT027</th>\n",
       "      <th>OUT035</th>\n",
       "      <th>OUT045</th>\n",
       "      <th>OUT046</th>\n",
       "      <th>OUT049</th>\n",
       "      <th>Tier 2</th>\n",
       "      <th>Tier 3</th>\n",
       "      <th>Supermarket Type1</th>\n",
       "      <th>Supermarket Type2</th>\n",
       "      <th>Supermarket Type3</th>\n",
       "    </tr>\n",
       "  </thead>\n",
       "  <tbody>\n",
       "    <tr>\n",
       "      <th>count</th>\n",
       "      <td>8523.000000</td>\n",
       "      <td>8523.000000</td>\n",
       "      <td>8523.000000</td>\n",
       "      <td>8523.000000</td>\n",
       "      <td>8523.000000</td>\n",
       "      <td>8523.000000</td>\n",
       "      <td>8523.000000</td>\n",
       "      <td>8523.000000</td>\n",
       "      <td>8523.000000</td>\n",
       "      <td>8523.000000</td>\n",
       "      <td>...</td>\n",
       "      <td>8523.000000</td>\n",
       "      <td>8523.000000</td>\n",
       "      <td>8523.000000</td>\n",
       "      <td>8523.000000</td>\n",
       "      <td>8523.000000</td>\n",
       "      <td>8523.000000</td>\n",
       "      <td>8523.000000</td>\n",
       "      <td>8523.000000</td>\n",
       "      <td>8523.000000</td>\n",
       "      <td>8523.000000</td>\n",
       "    </tr>\n",
       "    <tr>\n",
       "      <th>mean</th>\n",
       "      <td>12.857645</td>\n",
       "      <td>0.352693</td>\n",
       "      <td>0.066132</td>\n",
       "      <td>140.992782</td>\n",
       "      <td>1997.831867</td>\n",
       "      <td>0.829168</td>\n",
       "      <td>2181.288914</td>\n",
       "      <td>0.029450</td>\n",
       "      <td>0.012906</td>\n",
       "      <td>0.076147</td>\n",
       "      <td>...</td>\n",
       "      <td>0.109703</td>\n",
       "      <td>0.109117</td>\n",
       "      <td>0.108999</td>\n",
       "      <td>0.109117</td>\n",
       "      <td>0.109117</td>\n",
       "      <td>0.326763</td>\n",
       "      <td>0.393054</td>\n",
       "      <td>0.654347</td>\n",
       "      <td>0.108882</td>\n",
       "      <td>0.109703</td>\n",
       "    </tr>\n",
       "    <tr>\n",
       "      <th>std</th>\n",
       "      <td>4.226124</td>\n",
       "      <td>0.477836</td>\n",
       "      <td>0.051598</td>\n",
       "      <td>62.275067</td>\n",
       "      <td>8.371760</td>\n",
       "      <td>0.600327</td>\n",
       "      <td>1706.499616</td>\n",
       "      <td>0.169073</td>\n",
       "      <td>0.112877</td>\n",
       "      <td>0.265249</td>\n",
       "      <td>...</td>\n",
       "      <td>0.312538</td>\n",
       "      <td>0.311804</td>\n",
       "      <td>0.311656</td>\n",
       "      <td>0.311804</td>\n",
       "      <td>0.311804</td>\n",
       "      <td>0.469057</td>\n",
       "      <td>0.488457</td>\n",
       "      <td>0.475609</td>\n",
       "      <td>0.311509</td>\n",
       "      <td>0.312538</td>\n",
       "    </tr>\n",
       "    <tr>\n",
       "      <th>min</th>\n",
       "      <td>4.555000</td>\n",
       "      <td>0.000000</td>\n",
       "      <td>0.000000</td>\n",
       "      <td>31.290000</td>\n",
       "      <td>1985.000000</td>\n",
       "      <td>0.000000</td>\n",
       "      <td>33.290000</td>\n",
       "      <td>0.000000</td>\n",
       "      <td>0.000000</td>\n",
       "      <td>0.000000</td>\n",
       "      <td>...</td>\n",
       "      <td>0.000000</td>\n",
       "      <td>0.000000</td>\n",
       "      <td>0.000000</td>\n",
       "      <td>0.000000</td>\n",
       "      <td>0.000000</td>\n",
       "      <td>0.000000</td>\n",
       "      <td>0.000000</td>\n",
       "      <td>0.000000</td>\n",
       "      <td>0.000000</td>\n",
       "      <td>0.000000</td>\n",
       "    </tr>\n",
       "    <tr>\n",
       "      <th>25%</th>\n",
       "      <td>9.310000</td>\n",
       "      <td>0.000000</td>\n",
       "      <td>0.026989</td>\n",
       "      <td>93.826500</td>\n",
       "      <td>1987.000000</td>\n",
       "      <td>0.000000</td>\n",
       "      <td>834.247400</td>\n",
       "      <td>0.000000</td>\n",
       "      <td>0.000000</td>\n",
       "      <td>0.000000</td>\n",
       "      <td>...</td>\n",
       "      <td>0.000000</td>\n",
       "      <td>0.000000</td>\n",
       "      <td>0.000000</td>\n",
       "      <td>0.000000</td>\n",
       "      <td>0.000000</td>\n",
       "      <td>0.000000</td>\n",
       "      <td>0.000000</td>\n",
       "      <td>0.000000</td>\n",
       "      <td>0.000000</td>\n",
       "      <td>0.000000</td>\n",
       "    </tr>\n",
       "    <tr>\n",
       "      <th>50%</th>\n",
       "      <td>12.857645</td>\n",
       "      <td>0.000000</td>\n",
       "      <td>0.053931</td>\n",
       "      <td>143.012800</td>\n",
       "      <td>1999.000000</td>\n",
       "      <td>1.000000</td>\n",
       "      <td>1794.331000</td>\n",
       "      <td>0.000000</td>\n",
       "      <td>0.000000</td>\n",
       "      <td>0.000000</td>\n",
       "      <td>...</td>\n",
       "      <td>0.000000</td>\n",
       "      <td>0.000000</td>\n",
       "      <td>0.000000</td>\n",
       "      <td>0.000000</td>\n",
       "      <td>0.000000</td>\n",
       "      <td>0.000000</td>\n",
       "      <td>0.000000</td>\n",
       "      <td>1.000000</td>\n",
       "      <td>0.000000</td>\n",
       "      <td>0.000000</td>\n",
       "    </tr>\n",
       "    <tr>\n",
       "      <th>75%</th>\n",
       "      <td>16.000000</td>\n",
       "      <td>1.000000</td>\n",
       "      <td>0.094585</td>\n",
       "      <td>185.643700</td>\n",
       "      <td>2004.000000</td>\n",
       "      <td>1.000000</td>\n",
       "      <td>3101.296400</td>\n",
       "      <td>0.000000</td>\n",
       "      <td>0.000000</td>\n",
       "      <td>0.000000</td>\n",
       "      <td>...</td>\n",
       "      <td>0.000000</td>\n",
       "      <td>0.000000</td>\n",
       "      <td>0.000000</td>\n",
       "      <td>0.000000</td>\n",
       "      <td>0.000000</td>\n",
       "      <td>1.000000</td>\n",
       "      <td>1.000000</td>\n",
       "      <td>1.000000</td>\n",
       "      <td>0.000000</td>\n",
       "      <td>0.000000</td>\n",
       "    </tr>\n",
       "    <tr>\n",
       "      <th>max</th>\n",
       "      <td>21.350000</td>\n",
       "      <td>1.000000</td>\n",
       "      <td>0.328391</td>\n",
       "      <td>266.888400</td>\n",
       "      <td>2009.000000</td>\n",
       "      <td>2.000000</td>\n",
       "      <td>13086.964800</td>\n",
       "      <td>1.000000</td>\n",
       "      <td>1.000000</td>\n",
       "      <td>1.000000</td>\n",
       "      <td>...</td>\n",
       "      <td>1.000000</td>\n",
       "      <td>1.000000</td>\n",
       "      <td>1.000000</td>\n",
       "      <td>1.000000</td>\n",
       "      <td>1.000000</td>\n",
       "      <td>1.000000</td>\n",
       "      <td>1.000000</td>\n",
       "      <td>1.000000</td>\n",
       "      <td>1.000000</td>\n",
       "      <td>1.000000</td>\n",
       "    </tr>\n",
       "  </tbody>\n",
       "</table>\n",
       "<p>8 rows × 36 columns</p>\n",
       "</div>"
      ],
      "text/plain": [
       "       Item_Weight  Item_Fat_Content  Item_Visibility     Item_MRP  \\\n",
       "count  8523.000000       8523.000000      8523.000000  8523.000000   \n",
       "mean     12.857645          0.352693         0.066132   140.992782   \n",
       "std       4.226124          0.477836         0.051598    62.275067   \n",
       "min       4.555000          0.000000         0.000000    31.290000   \n",
       "25%       9.310000          0.000000         0.026989    93.826500   \n",
       "50%      12.857645          0.000000         0.053931   143.012800   \n",
       "75%      16.000000          1.000000         0.094585   185.643700   \n",
       "max      21.350000          1.000000         0.328391   266.888400   \n",
       "\n",
       "       Outlet_Establishment_Year  Outlet_Size  Item_Outlet_Sales       Breads  \\\n",
       "count                8523.000000  8523.000000        8523.000000  8523.000000   \n",
       "mean                 1997.831867     0.829168        2181.288914     0.029450   \n",
       "std                     8.371760     0.600327        1706.499616     0.169073   \n",
       "min                  1985.000000     0.000000          33.290000     0.000000   \n",
       "25%                  1987.000000     0.000000         834.247400     0.000000   \n",
       "50%                  1999.000000     1.000000        1794.331000     0.000000   \n",
       "75%                  2004.000000     1.000000        3101.296400     0.000000   \n",
       "max                  2009.000000     2.000000       13086.964800     1.000000   \n",
       "\n",
       "         Breakfast       Canned  ...       OUT027       OUT035       OUT045  \\\n",
       "count  8523.000000  8523.000000  ...  8523.000000  8523.000000  8523.000000   \n",
       "mean      0.012906     0.076147  ...     0.109703     0.109117     0.108999   \n",
       "std       0.112877     0.265249  ...     0.312538     0.311804     0.311656   \n",
       "min       0.000000     0.000000  ...     0.000000     0.000000     0.000000   \n",
       "25%       0.000000     0.000000  ...     0.000000     0.000000     0.000000   \n",
       "50%       0.000000     0.000000  ...     0.000000     0.000000     0.000000   \n",
       "75%       0.000000     0.000000  ...     0.000000     0.000000     0.000000   \n",
       "max       1.000000     1.000000  ...     1.000000     1.000000     1.000000   \n",
       "\n",
       "            OUT046       OUT049       Tier 2       Tier 3  Supermarket Type1  \\\n",
       "count  8523.000000  8523.000000  8523.000000  8523.000000        8523.000000   \n",
       "mean      0.109117     0.109117     0.326763     0.393054           0.654347   \n",
       "std       0.311804     0.311804     0.469057     0.488457           0.475609   \n",
       "min       0.000000     0.000000     0.000000     0.000000           0.000000   \n",
       "25%       0.000000     0.000000     0.000000     0.000000           0.000000   \n",
       "50%       0.000000     0.000000     0.000000     0.000000           1.000000   \n",
       "75%       0.000000     0.000000     1.000000     1.000000           1.000000   \n",
       "max       1.000000     1.000000     1.000000     1.000000           1.000000   \n",
       "\n",
       "       Supermarket Type2  Supermarket Type3  \n",
       "count        8523.000000        8523.000000  \n",
       "mean            0.108882           0.109703  \n",
       "std             0.311509           0.312538  \n",
       "min             0.000000           0.000000  \n",
       "25%             0.000000           0.000000  \n",
       "50%             0.000000           0.000000  \n",
       "75%             0.000000           0.000000  \n",
       "max             1.000000           1.000000  \n",
       "\n",
       "[8 rows x 36 columns]"
      ]
     },
     "execution_count": 293,
     "metadata": {},
     "output_type": "execute_result"
    }
   ],
   "source": [
    "df_new.describe()"
   ]
  },
  {
   "cell_type": "code",
   "execution_count": 294,
   "id": "1967a730",
   "metadata": {},
   "outputs": [
    {
     "data": {
      "text/plain": [
       "1985    1463\n",
       "1987     932\n",
       "2004     930\n",
       "1997     930\n",
       "1999     930\n",
       "2002     929\n",
       "2009     928\n",
       "2007     926\n",
       "1998     555\n",
       "Name: Outlet_Establishment_Year, dtype: int64"
      ]
     },
     "execution_count": 294,
     "metadata": {},
     "output_type": "execute_result"
    }
   ],
   "source": [
    "df_new['Outlet_Establishment_Year'].value_counts()"
   ]
  },
  {
   "cell_type": "code",
   "execution_count": 295,
   "id": "ccdced17",
   "metadata": {},
   "outputs": [],
   "source": [
    "df_new['Outlet_Establishment_Year'] = 2022 - df_new['Outlet_Establishment_Year']"
   ]
  },
  {
   "cell_type": "code",
   "execution_count": 296,
   "id": "72e4b654",
   "metadata": {},
   "outputs": [
    {
     "data": {
      "text/html": [
       "<div>\n",
       "<style scoped>\n",
       "    .dataframe tbody tr th:only-of-type {\n",
       "        vertical-align: middle;\n",
       "    }\n",
       "\n",
       "    .dataframe tbody tr th {\n",
       "        vertical-align: top;\n",
       "    }\n",
       "\n",
       "    .dataframe thead th {\n",
       "        text-align: right;\n",
       "    }\n",
       "</style>\n",
       "<table border=\"1\" class=\"dataframe\">\n",
       "  <thead>\n",
       "    <tr style=\"text-align: right;\">\n",
       "      <th></th>\n",
       "      <th>Item_Weight</th>\n",
       "      <th>Item_Fat_Content</th>\n",
       "      <th>Item_Visibility</th>\n",
       "      <th>Item_MRP</th>\n",
       "      <th>Outlet_Establishment_Year</th>\n",
       "      <th>Outlet_Size</th>\n",
       "      <th>Item_Outlet_Sales</th>\n",
       "      <th>Breads</th>\n",
       "      <th>Breakfast</th>\n",
       "      <th>Canned</th>\n",
       "      <th>...</th>\n",
       "      <th>OUT027</th>\n",
       "      <th>OUT035</th>\n",
       "      <th>OUT045</th>\n",
       "      <th>OUT046</th>\n",
       "      <th>OUT049</th>\n",
       "      <th>Tier 2</th>\n",
       "      <th>Tier 3</th>\n",
       "      <th>Supermarket Type1</th>\n",
       "      <th>Supermarket Type2</th>\n",
       "      <th>Supermarket Type3</th>\n",
       "    </tr>\n",
       "  </thead>\n",
       "  <tbody>\n",
       "    <tr>\n",
       "      <th>0</th>\n",
       "      <td>9.30</td>\n",
       "      <td>0</td>\n",
       "      <td>0.016047</td>\n",
       "      <td>249.8092</td>\n",
       "      <td>23</td>\n",
       "      <td>1.0</td>\n",
       "      <td>3735.1380</td>\n",
       "      <td>0.0</td>\n",
       "      <td>0.0</td>\n",
       "      <td>0.0</td>\n",
       "      <td>...</td>\n",
       "      <td>0.0</td>\n",
       "      <td>0.0</td>\n",
       "      <td>0.0</td>\n",
       "      <td>0.0</td>\n",
       "      <td>1.0</td>\n",
       "      <td>0.0</td>\n",
       "      <td>0.0</td>\n",
       "      <td>1.0</td>\n",
       "      <td>0.0</td>\n",
       "      <td>0.0</td>\n",
       "    </tr>\n",
       "    <tr>\n",
       "      <th>1</th>\n",
       "      <td>5.92</td>\n",
       "      <td>1</td>\n",
       "      <td>0.019278</td>\n",
       "      <td>48.2692</td>\n",
       "      <td>13</td>\n",
       "      <td>1.0</td>\n",
       "      <td>443.4228</td>\n",
       "      <td>0.0</td>\n",
       "      <td>0.0</td>\n",
       "      <td>0.0</td>\n",
       "      <td>...</td>\n",
       "      <td>0.0</td>\n",
       "      <td>0.0</td>\n",
       "      <td>0.0</td>\n",
       "      <td>0.0</td>\n",
       "      <td>0.0</td>\n",
       "      <td>0.0</td>\n",
       "      <td>1.0</td>\n",
       "      <td>0.0</td>\n",
       "      <td>1.0</td>\n",
       "      <td>0.0</td>\n",
       "    </tr>\n",
       "    <tr>\n",
       "      <th>2</th>\n",
       "      <td>17.50</td>\n",
       "      <td>0</td>\n",
       "      <td>0.016760</td>\n",
       "      <td>141.6180</td>\n",
       "      <td>23</td>\n",
       "      <td>1.0</td>\n",
       "      <td>2097.2700</td>\n",
       "      <td>0.0</td>\n",
       "      <td>0.0</td>\n",
       "      <td>0.0</td>\n",
       "      <td>...</td>\n",
       "      <td>0.0</td>\n",
       "      <td>0.0</td>\n",
       "      <td>0.0</td>\n",
       "      <td>0.0</td>\n",
       "      <td>1.0</td>\n",
       "      <td>0.0</td>\n",
       "      <td>0.0</td>\n",
       "      <td>1.0</td>\n",
       "      <td>0.0</td>\n",
       "      <td>0.0</td>\n",
       "    </tr>\n",
       "    <tr>\n",
       "      <th>3</th>\n",
       "      <td>19.20</td>\n",
       "      <td>1</td>\n",
       "      <td>0.000000</td>\n",
       "      <td>182.0950</td>\n",
       "      <td>24</td>\n",
       "      <td>1.0</td>\n",
       "      <td>732.3800</td>\n",
       "      <td>0.0</td>\n",
       "      <td>0.0</td>\n",
       "      <td>0.0</td>\n",
       "      <td>...</td>\n",
       "      <td>0.0</td>\n",
       "      <td>0.0</td>\n",
       "      <td>0.0</td>\n",
       "      <td>0.0</td>\n",
       "      <td>0.0</td>\n",
       "      <td>0.0</td>\n",
       "      <td>1.0</td>\n",
       "      <td>0.0</td>\n",
       "      <td>0.0</td>\n",
       "      <td>0.0</td>\n",
       "    </tr>\n",
       "    <tr>\n",
       "      <th>4</th>\n",
       "      <td>8.93</td>\n",
       "      <td>0</td>\n",
       "      <td>0.000000</td>\n",
       "      <td>53.8614</td>\n",
       "      <td>35</td>\n",
       "      <td>2.0</td>\n",
       "      <td>994.7052</td>\n",
       "      <td>0.0</td>\n",
       "      <td>0.0</td>\n",
       "      <td>0.0</td>\n",
       "      <td>...</td>\n",
       "      <td>0.0</td>\n",
       "      <td>0.0</td>\n",
       "      <td>0.0</td>\n",
       "      <td>0.0</td>\n",
       "      <td>0.0</td>\n",
       "      <td>0.0</td>\n",
       "      <td>1.0</td>\n",
       "      <td>1.0</td>\n",
       "      <td>0.0</td>\n",
       "      <td>0.0</td>\n",
       "    </tr>\n",
       "  </tbody>\n",
       "</table>\n",
       "<p>5 rows × 36 columns</p>\n",
       "</div>"
      ],
      "text/plain": [
       "   Item_Weight  Item_Fat_Content  Item_Visibility  Item_MRP  \\\n",
       "0         9.30                 0         0.016047  249.8092   \n",
       "1         5.92                 1         0.019278   48.2692   \n",
       "2        17.50                 0         0.016760  141.6180   \n",
       "3        19.20                 1         0.000000  182.0950   \n",
       "4         8.93                 0         0.000000   53.8614   \n",
       "\n",
       "   Outlet_Establishment_Year  Outlet_Size  Item_Outlet_Sales  Breads  \\\n",
       "0                         23          1.0          3735.1380     0.0   \n",
       "1                         13          1.0           443.4228     0.0   \n",
       "2                         23          1.0          2097.2700     0.0   \n",
       "3                         24          1.0           732.3800     0.0   \n",
       "4                         35          2.0           994.7052     0.0   \n",
       "\n",
       "   Breakfast  Canned  ...  OUT027  OUT035  OUT045  OUT046  OUT049  Tier 2  \\\n",
       "0        0.0     0.0  ...     0.0     0.0     0.0     0.0     1.0     0.0   \n",
       "1        0.0     0.0  ...     0.0     0.0     0.0     0.0     0.0     0.0   \n",
       "2        0.0     0.0  ...     0.0     0.0     0.0     0.0     1.0     0.0   \n",
       "3        0.0     0.0  ...     0.0     0.0     0.0     0.0     0.0     0.0   \n",
       "4        0.0     0.0  ...     0.0     0.0     0.0     0.0     0.0     0.0   \n",
       "\n",
       "   Tier 3  Supermarket Type1  Supermarket Type2  Supermarket Type3  \n",
       "0     0.0                1.0                0.0                0.0  \n",
       "1     1.0                0.0                1.0                0.0  \n",
       "2     0.0                1.0                0.0                0.0  \n",
       "3     1.0                0.0                0.0                0.0  \n",
       "4     1.0                1.0                0.0                0.0  \n",
       "\n",
       "[5 rows x 36 columns]"
      ]
     },
     "execution_count": 296,
     "metadata": {},
     "output_type": "execute_result"
    }
   ],
   "source": [
    "df_new.head()"
   ]
  },
  {
   "cell_type": "code",
   "execution_count": 297,
   "id": "e9dca39a",
   "metadata": {},
   "outputs": [
    {
     "data": {
      "text/plain": [
       "0       23\n",
       "1       13\n",
       "2       23\n",
       "3       24\n",
       "4       35\n",
       "        ..\n",
       "8518    35\n",
       "8519    20\n",
       "8520    18\n",
       "8521    13\n",
       "8522    25\n",
       "Name: Outlet_Establishment_Year, Length: 8523, dtype: int64"
      ]
     },
     "execution_count": 297,
     "metadata": {},
     "output_type": "execute_result"
    }
   ],
   "source": [
    "df_new['Outlet_Establishment_Year']"
   ]
  },
  {
   "cell_type": "code",
   "execution_count": 298,
   "id": "0e136e2d",
   "metadata": {},
   "outputs": [
    {
     "data": {
      "text/plain": [
       "<AxesSubplot:xlabel='Outlet_Establishment_Year', ylabel='Density'>"
      ]
     },
     "execution_count": 298,
     "metadata": {},
     "output_type": "execute_result"
    },
    {
     "data": {
      "image/png": "[encoded data removed]",
      "text/plain": [
       "<Figure size 720x360 with 1 Axes>"
      ]
     },
     "metadata": {
      "needs_background": "light"
     },
     "output_type": "display_data"
    }
   ],
   "source": [
    "plt.figure(figsize=(10,5))\n",
    "sns.distplot(df_new['Outlet_Establishment_Year'])"
   ]
  },
  {
   "cell_type": "code",
   "execution_count": 299,
   "id": "c32ceb1b",
   "metadata": {},
   "outputs": [
    {
     "data": {
      "text/plain": [
       "<AxesSubplot:xlabel='Outlet_Establishment_Year'>"
      ]
     },
     "execution_count": 299,
     "metadata": {},
     "output_type": "execute_result"
    },
    {
     "data": {
      "image/png": "[encoded data removed]",
      "text/plain": [
       "<Figure size 720x360 with 1 Axes>"
      ]
     },
     "metadata": {
      "needs_background": "light"
     },
     "output_type": "display_data"
    }
   ],
   "source": [
    "plt.figure(figsize=(10,5))\n",
    "sns.boxplot(df_new['Outlet_Establishment_Year'])"
   ]
  },
  {
   "cell_type": "code",
   "execution_count": 300,
   "id": "8c968b46",
   "metadata": {},
   "outputs": [
    {
     "data": {
      "text/plain": [
       "<AxesSubplot:xlabel='Item_MRP'>"
      ]
     },
     "execution_count": 300,
     "metadata": {},
     "output_type": "execute_result"
    },
    {
     "data": {
      "image/png": "[encoded data removed]",
      "text/plain": [
       "<Figure size 720x360 with 1 Axes>"
      ]
     },
     "metadata": {
      "needs_background": "light"
     },
     "output_type": "display_data"
    }
   ],
   "source": [
    "plt.figure(figsize=(10,5))\n",
    "sns.boxplot(df_new['Item_MRP'])"
   ]
  },
  {
   "cell_type": "code",
   "execution_count": 301,
   "id": "dad8025c",
   "metadata": {},
   "outputs": [
    {
     "data": {
      "text/plain": [
       "<AxesSubplot:xlabel='Item_Visibility'>"
      ]
     },
     "execution_count": 301,
     "metadata": {},
     "output_type": "execute_result"
    },
    {
     "data": {
      "image/png": "[encoded data removed]",
      "text/plain": [
       "<Figure size 720x360 with 1 Axes>"
      ]
     },
     "metadata": {
      "needs_background": "light"
     },
     "output_type": "display_data"
    }
   ],
   "source": [
    "plt.figure(figsize=(10,5))\n",
    "sns.boxplot(df_new['Item_Visibility'])"
   ]
  },
  {
   "cell_type": "code",
   "execution_count": 302,
   "id": "9ae7910f",
   "metadata": {},
   "outputs": [
    {
     "data": {
      "text/plain": [
       "<AxesSubplot:xlabel='Item_Weight'>"
      ]
     },
     "execution_count": 302,
     "metadata": {},
     "output_type": "execute_result"
    },
    {
     "data": {
      "image/png": "[encoded data removed]",
      "text/plain": [
       "<Figure size 720x360 with 1 Axes>"
      ]
     },
     "metadata": {
      "needs_background": "light"
     },
     "output_type": "display_data"
    }
   ],
   "source": [
    "plt.figure(figsize=(10,5))\n",
    "sns.boxplot(df_new['Item_Weight'])"
   ]
  },
  {
   "cell_type": "code",
   "execution_count": 303,
   "id": "54b4f80d",
   "metadata": {},
   "outputs": [],
   "source": [
    "percentile25 = df_new['Item_Visibility'].quantile(0.25)\n",
    "percentile75  = df_new['Item_Visibility'].quantile(0.75)\n",
    "IQR = percentile75 - percentile25"
   ]
  },
  {
   "cell_type": "code",
   "execution_count": 304,
   "id": "169bef48",
   "metadata": {},
   "outputs": [],
   "source": [
    "upper_limit = percentile75 + 1.5*IQR\n",
    "lower_limit = percentile25 - 1.5*IQR"
   ]
  },
  {
   "cell_type": "code",
   "execution_count": 305,
   "id": "dce079cb",
   "metadata": {},
   "outputs": [
    {
     "data": {
      "text/plain": [
       "0.195979015"
      ]
     },
     "execution_count": 305,
     "metadata": {},
     "output_type": "execute_result"
    }
   ],
   "source": [
    "upper_limit"
   ]
  },
  {
   "cell_type": "code",
   "execution_count": 306,
   "id": "d368c854",
   "metadata": {},
   "outputs": [
    {
     "data": {
      "text/plain": [
       "-0.07440424500000001"
      ]
     },
     "execution_count": 306,
     "metadata": {},
     "output_type": "execute_result"
    }
   ],
   "source": [
    "lower_limit"
   ]
  },
  {
   "cell_type": "code",
   "execution_count": 307,
   "id": "b91da3c9",
   "metadata": {},
   "outputs": [
    {
     "data": {
      "text/html": [
       "<div>\n",
       "<style scoped>\n",
       "    .dataframe tbody tr th:only-of-type {\n",
       "        vertical-align: middle;\n",
       "    }\n",
       "\n",
       "    .dataframe tbody tr th {\n",
       "        vertical-align: top;\n",
       "    }\n",
       "\n",
       "    .dataframe thead th {\n",
       "        text-align: right;\n",
       "    }\n",
       "</style>\n",
       "<table border=\"1\" class=\"dataframe\">\n",
       "  <thead>\n",
       "    <tr style=\"text-align: right;\">\n",
       "      <th></th>\n",
       "      <th>Item_Weight</th>\n",
       "      <th>Item_Fat_Content</th>\n",
       "      <th>Item_Visibility</th>\n",
       "      <th>Item_MRP</th>\n",
       "      <th>Outlet_Establishment_Year</th>\n",
       "      <th>Outlet_Size</th>\n",
       "      <th>Item_Outlet_Sales</th>\n",
       "      <th>Breads</th>\n",
       "      <th>Breakfast</th>\n",
       "      <th>Canned</th>\n",
       "      <th>...</th>\n",
       "      <th>OUT027</th>\n",
       "      <th>OUT035</th>\n",
       "      <th>OUT045</th>\n",
       "      <th>OUT046</th>\n",
       "      <th>OUT049</th>\n",
       "      <th>Tier 2</th>\n",
       "      <th>Tier 3</th>\n",
       "      <th>Supermarket Type1</th>\n",
       "      <th>Supermarket Type2</th>\n",
       "      <th>Supermarket Type3</th>\n",
       "    </tr>\n",
       "  </thead>\n",
       "  <tbody>\n",
       "    <tr>\n",
       "      <th>49</th>\n",
       "      <td>12.857645</td>\n",
       "      <td>1</td>\n",
       "      <td>0.255395</td>\n",
       "      <td>196.8794</td>\n",
       "      <td>37</td>\n",
       "      <td>0.0</td>\n",
       "      <td>780.3176</td>\n",
       "      <td>0.0</td>\n",
       "      <td>0.0</td>\n",
       "      <td>0.0</td>\n",
       "      <td>...</td>\n",
       "      <td>0.0</td>\n",
       "      <td>0.0</td>\n",
       "      <td>0.0</td>\n",
       "      <td>0.0</td>\n",
       "      <td>0.0</td>\n",
       "      <td>0.0</td>\n",
       "      <td>0.0</td>\n",
       "      <td>0.0</td>\n",
       "      <td>0.0</td>\n",
       "      <td>0.0</td>\n",
       "    </tr>\n",
       "    <tr>\n",
       "      <th>83</th>\n",
       "      <td>12.857645</td>\n",
       "      <td>0</td>\n",
       "      <td>0.293418</td>\n",
       "      <td>194.6136</td>\n",
       "      <td>37</td>\n",
       "      <td>0.0</td>\n",
       "      <td>583.2408</td>\n",
       "      <td>0.0</td>\n",
       "      <td>0.0</td>\n",
       "      <td>0.0</td>\n",
       "      <td>...</td>\n",
       "      <td>0.0</td>\n",
       "      <td>0.0</td>\n",
       "      <td>0.0</td>\n",
       "      <td>0.0</td>\n",
       "      <td>0.0</td>\n",
       "      <td>0.0</td>\n",
       "      <td>0.0</td>\n",
       "      <td>0.0</td>\n",
       "      <td>0.0</td>\n",
       "      <td>0.0</td>\n",
       "    </tr>\n",
       "    <tr>\n",
       "      <th>108</th>\n",
       "      <td>12.857645</td>\n",
       "      <td>0</td>\n",
       "      <td>0.278974</td>\n",
       "      <td>225.3720</td>\n",
       "      <td>37</td>\n",
       "      <td>0.0</td>\n",
       "      <td>679.1160</td>\n",
       "      <td>0.0</td>\n",
       "      <td>0.0</td>\n",
       "      <td>0.0</td>\n",
       "      <td>...</td>\n",
       "      <td>0.0</td>\n",
       "      <td>0.0</td>\n",
       "      <td>0.0</td>\n",
       "      <td>0.0</td>\n",
       "      <td>0.0</td>\n",
       "      <td>0.0</td>\n",
       "      <td>0.0</td>\n",
       "      <td>0.0</td>\n",
       "      <td>0.0</td>\n",
       "      <td>0.0</td>\n",
       "    </tr>\n",
       "    <tr>\n",
       "      <th>174</th>\n",
       "      <td>17.700000</td>\n",
       "      <td>0</td>\n",
       "      <td>0.291865</td>\n",
       "      <td>115.1834</td>\n",
       "      <td>24</td>\n",
       "      <td>1.0</td>\n",
       "      <td>345.5502</td>\n",
       "      <td>0.0</td>\n",
       "      <td>0.0</td>\n",
       "      <td>0.0</td>\n",
       "      <td>...</td>\n",
       "      <td>0.0</td>\n",
       "      <td>0.0</td>\n",
       "      <td>0.0</td>\n",
       "      <td>0.0</td>\n",
       "      <td>0.0</td>\n",
       "      <td>0.0</td>\n",
       "      <td>1.0</td>\n",
       "      <td>0.0</td>\n",
       "      <td>0.0</td>\n",
       "      <td>0.0</td>\n",
       "    </tr>\n",
       "    <tr>\n",
       "      <th>334</th>\n",
       "      <td>12.857645</td>\n",
       "      <td>0</td>\n",
       "      <td>0.204700</td>\n",
       "      <td>76.8670</td>\n",
       "      <td>37</td>\n",
       "      <td>0.0</td>\n",
       "      <td>229.7010</td>\n",
       "      <td>0.0</td>\n",
       "      <td>0.0</td>\n",
       "      <td>0.0</td>\n",
       "      <td>...</td>\n",
       "      <td>0.0</td>\n",
       "      <td>0.0</td>\n",
       "      <td>0.0</td>\n",
       "      <td>0.0</td>\n",
       "      <td>0.0</td>\n",
       "      <td>0.0</td>\n",
       "      <td>0.0</td>\n",
       "      <td>0.0</td>\n",
       "      <td>0.0</td>\n",
       "      <td>0.0</td>\n",
       "    </tr>\n",
       "    <tr>\n",
       "      <th>...</th>\n",
       "      <td>...</td>\n",
       "      <td>...</td>\n",
       "      <td>...</td>\n",
       "      <td>...</td>\n",
       "      <td>...</td>\n",
       "      <td>...</td>\n",
       "      <td>...</td>\n",
       "      <td>...</td>\n",
       "      <td>...</td>\n",
       "      <td>...</td>\n",
       "      <td>...</td>\n",
       "      <td>...</td>\n",
       "      <td>...</td>\n",
       "      <td>...</td>\n",
       "      <td>...</td>\n",
       "      <td>...</td>\n",
       "      <td>...</td>\n",
       "      <td>...</td>\n",
       "      <td>...</td>\n",
       "      <td>...</td>\n",
       "      <td>...</td>\n",
       "    </tr>\n",
       "    <tr>\n",
       "      <th>8292</th>\n",
       "      <td>12.857645</td>\n",
       "      <td>1</td>\n",
       "      <td>0.209163</td>\n",
       "      <td>179.1976</td>\n",
       "      <td>37</td>\n",
       "      <td>0.0</td>\n",
       "      <td>543.2928</td>\n",
       "      <td>0.0</td>\n",
       "      <td>0.0</td>\n",
       "      <td>0.0</td>\n",
       "      <td>...</td>\n",
       "      <td>0.0</td>\n",
       "      <td>0.0</td>\n",
       "      <td>0.0</td>\n",
       "      <td>0.0</td>\n",
       "      <td>0.0</td>\n",
       "      <td>0.0</td>\n",
       "      <td>0.0</td>\n",
       "      <td>0.0</td>\n",
       "      <td>0.0</td>\n",
       "      <td>0.0</td>\n",
       "    </tr>\n",
       "    <tr>\n",
       "      <th>8345</th>\n",
       "      <td>12.857645</td>\n",
       "      <td>1</td>\n",
       "      <td>0.266397</td>\n",
       "      <td>215.6218</td>\n",
       "      <td>37</td>\n",
       "      <td>0.0</td>\n",
       "      <td>641.1654</td>\n",
       "      <td>0.0</td>\n",
       "      <td>0.0</td>\n",
       "      <td>0.0</td>\n",
       "      <td>...</td>\n",
       "      <td>0.0</td>\n",
       "      <td>0.0</td>\n",
       "      <td>0.0</td>\n",
       "      <td>0.0</td>\n",
       "      <td>0.0</td>\n",
       "      <td>0.0</td>\n",
       "      <td>0.0</td>\n",
       "      <td>0.0</td>\n",
       "      <td>0.0</td>\n",
       "      <td>0.0</td>\n",
       "    </tr>\n",
       "    <tr>\n",
       "      <th>8371</th>\n",
       "      <td>8.270000</td>\n",
       "      <td>1</td>\n",
       "      <td>0.214125</td>\n",
       "      <td>183.9924</td>\n",
       "      <td>24</td>\n",
       "      <td>1.0</td>\n",
       "      <td>185.0924</td>\n",
       "      <td>0.0</td>\n",
       "      <td>0.0</td>\n",
       "      <td>0.0</td>\n",
       "      <td>...</td>\n",
       "      <td>0.0</td>\n",
       "      <td>0.0</td>\n",
       "      <td>0.0</td>\n",
       "      <td>0.0</td>\n",
       "      <td>0.0</td>\n",
       "      <td>0.0</td>\n",
       "      <td>1.0</td>\n",
       "      <td>0.0</td>\n",
       "      <td>0.0</td>\n",
       "      <td>0.0</td>\n",
       "    </tr>\n",
       "    <tr>\n",
       "      <th>8432</th>\n",
       "      <td>14.000000</td>\n",
       "      <td>1</td>\n",
       "      <td>0.227261</td>\n",
       "      <td>54.3640</td>\n",
       "      <td>24</td>\n",
       "      <td>1.0</td>\n",
       "      <td>159.7920</td>\n",
       "      <td>0.0</td>\n",
       "      <td>0.0</td>\n",
       "      <td>0.0</td>\n",
       "      <td>...</td>\n",
       "      <td>0.0</td>\n",
       "      <td>0.0</td>\n",
       "      <td>0.0</td>\n",
       "      <td>0.0</td>\n",
       "      <td>0.0</td>\n",
       "      <td>0.0</td>\n",
       "      <td>1.0</td>\n",
       "      <td>0.0</td>\n",
       "      <td>0.0</td>\n",
       "      <td>0.0</td>\n",
       "    </tr>\n",
       "    <tr>\n",
       "      <th>8509</th>\n",
       "      <td>8.100000</td>\n",
       "      <td>0</td>\n",
       "      <td>0.214306</td>\n",
       "      <td>213.9902</td>\n",
       "      <td>24</td>\n",
       "      <td>1.0</td>\n",
       "      <td>424.7804</td>\n",
       "      <td>0.0</td>\n",
       "      <td>0.0</td>\n",
       "      <td>0.0</td>\n",
       "      <td>...</td>\n",
       "      <td>0.0</td>\n",
       "      <td>0.0</td>\n",
       "      <td>0.0</td>\n",
       "      <td>0.0</td>\n",
       "      <td>0.0</td>\n",
       "      <td>0.0</td>\n",
       "      <td>1.0</td>\n",
       "      <td>0.0</td>\n",
       "      <td>0.0</td>\n",
       "      <td>0.0</td>\n",
       "    </tr>\n",
       "  </tbody>\n",
       "</table>\n",
       "<p>144 rows × 36 columns</p>\n",
       "</div>"
      ],
      "text/plain": [
       "      Item_Weight  Item_Fat_Content  Item_Visibility  Item_MRP  \\\n",
       "49      12.857645                 1         0.255395  196.8794   \n",
       "83      12.857645                 0         0.293418  194.6136   \n",
       "108     12.857645                 0         0.278974  225.3720   \n",
       "174     17.700000                 0         0.291865  115.1834   \n",
       "334     12.857645                 0         0.204700   76.8670   \n",
       "...           ...               ...              ...       ...   \n",
       "8292    12.857645                 1         0.209163  179.1976   \n",
       "8345    12.857645                 1         0.266397  215.6218   \n",
       "8371     8.270000                 1         0.214125  183.9924   \n",
       "8432    14.000000                 1         0.227261   54.3640   \n",
       "8509     8.100000                 0         0.214306  213.9902   \n",
       "\n",
       "      Outlet_Establishment_Year  Outlet_Size  Item_Outlet_Sales  Breads  \\\n",
       "49                           37          0.0           780.3176     0.0   \n",
       "83                           37          0.0           583.2408     0.0   \n",
       "108                          37          0.0           679.1160     0.0   \n",
       "174                          24          1.0           345.5502     0.0   \n",
       "334                          37          0.0           229.7010     0.0   \n",
       "...                         ...          ...                ...     ...   \n",
       "8292                         37          0.0           543.2928     0.0   \n",
       "8345                         37          0.0           641.1654     0.0   \n",
       "8371                         24          1.0           185.0924     0.0   \n",
       "8432                         24          1.0           159.7920     0.0   \n",
       "8509                         24          1.0           424.7804     0.0   \n",
       "\n",
       "      Breakfast  Canned  ...  OUT027  OUT035  OUT045  OUT046  OUT049  Tier 2  \\\n",
       "49          0.0     0.0  ...     0.0     0.0     0.0     0.0     0.0     0.0   \n",
       "83          0.0     0.0  ...     0.0     0.0     0.0     0.0     0.0     0.0   \n",
       "108         0.0     0.0  ...     0.0     0.0     0.0     0.0     0.0     0.0   \n",
       "174         0.0     0.0  ...     0.0     0.0     0.0     0.0     0.0     0.0   \n",
       "334         0.0     0.0  ...     0.0     0.0     0.0     0.0     0.0     0.0   \n",
       "...         ...     ...  ...     ...     ...     ...     ...     ...     ...   \n",
       "8292        0.0     0.0  ...     0.0     0.0     0.0     0.0     0.0     0.0   \n",
       "8345        0.0     0.0  ...     0.0     0.0     0.0     0.0     0.0     0.0   \n",
       "8371        0.0     0.0  ...     0.0     0.0     0.0     0.0     0.0     0.0   \n",
       "8432        0.0     0.0  ...     0.0     0.0     0.0     0.0     0.0     0.0   \n",
       "8509        0.0     0.0  ...     0.0     0.0     0.0     0.0     0.0     0.0   \n",
       "\n",
       "      Tier 3  Supermarket Type1  Supermarket Type2  Supermarket Type3  \n",
       "49       0.0                0.0                0.0                0.0  \n",
       "83       0.0                0.0                0.0                0.0  \n",
       "108      0.0                0.0                0.0                0.0  \n",
       "174      1.0                0.0                0.0                0.0  \n",
       "334      0.0                0.0                0.0                0.0  \n",
       "...      ...                ...                ...                ...  \n",
       "8292     0.0                0.0                0.0                0.0  \n",
       "8345     0.0                0.0                0.0                0.0  \n",
       "8371     1.0                0.0                0.0                0.0  \n",
       "8432     1.0                0.0                0.0                0.0  \n",
       "8509     1.0                0.0                0.0                0.0  \n",
       "\n",
       "[144 rows x 36 columns]"
      ]
     },
     "execution_count": 307,
     "metadata": {},
     "output_type": "execute_result"
    }
   ],
   "source": [
    "df_new[(df_new['Item_Visibility']>upper_limit) | (df_new['Item_Visibility']<lower_limit)]"
   ]
  },
  {
   "cell_type": "code",
   "execution_count": 308,
   "id": "a49505b5",
   "metadata": {},
   "outputs": [],
   "source": [
    "#Trimming\n",
    "#df_final = df_new[(df_new['Item_Visibility']<upper_limit) & (df_new['Item_Visibility']>lower_limit)]\n",
    "#df_final.shape"
   ]
  },
  {
   "cell_type": "code",
   "execution_count": 309,
   "id": "8c5bafa2",
   "metadata": {},
   "outputs": [],
   "source": [
    "df_final=df_new.copy() "
   ]
  },
  {
   "cell_type": "code",
   "execution_count": 310,
   "id": "64f3faee",
   "metadata": {},
   "outputs": [],
   "source": [
    "# Capping\n",
    "df_final['Item_Visibility'] = np.where(\n",
    "    \n",
    "    df_final['Item_Visibility']>upper_limit,\n",
    "    upper_limit,\n",
    "    np.where(\n",
    "        df_final['Item_Visibility']<lower_limit,\n",
    "        lower_limit,\n",
    "        df_final['Item_Visibility']\n",
    "    )\n",
    ")"
   ]
  },
  {
   "cell_type": "code",
   "execution_count": 311,
   "id": "01839832",
   "metadata": {},
   "outputs": [
    {
     "data": {
      "text/plain": [
       "<AxesSubplot:xlabel='Item_Visibility'>"
      ]
     },
     "execution_count": 311,
     "metadata": {},
     "output_type": "execute_result"
    },
    {
     "data": {
      "image/png": "[encoded data removed]",
      "text/plain": [
       "<Figure size 1008x576 with 4 Axes>"
      ]
     },
     "metadata": {
      "needs_background": "light"
     },
     "output_type": "display_data"
    }
   ],
   "source": [
    "plt.figure(figsize = (14,8))\n",
    "plt.subplot(2,2,1)\n",
    "sns.distplot(df_new['Item_Visibility'])\n",
    "\n",
    "plt.subplot(2,2,2)\n",
    "sns.boxplot(df_new['Item_Visibility'])\n",
    "\n",
    "plt.subplot(2,2,3)\n",
    "sns.distplot(df_final['Item_Visibility'])\n",
    "\n",
    "plt.subplot(2,2,4)\n",
    "sns.boxplot(df_final['Item_Visibility'])\n"
   ]
  },
  {
   "cell_type": "code",
   "execution_count": 312,
   "id": "7b48ccdc",
   "metadata": {},
   "outputs": [],
   "source": [
    "X = df_final.drop(columns = ['Item_Outlet_Sales'])\n",
    "y = df_final['Item_Outlet_Sales']"
   ]
  },
  {
   "cell_type": "code",
   "execution_count": 313,
   "id": "8df07656",
   "metadata": {},
   "outputs": [
    {
     "data": {
      "text/plain": [
       "(8523, 35)"
      ]
     },
     "execution_count": 313,
     "metadata": {},
     "output_type": "execute_result"
    }
   ],
   "source": [
    "X.shape"
   ]
  },
  {
   "cell_type": "code",
   "execution_count": 314,
   "id": "2ee52a2a",
   "metadata": {},
   "outputs": [
    {
     "data": {
      "text/plain": [
       "(8523,)"
      ]
     },
     "execution_count": 314,
     "metadata": {},
     "output_type": "execute_result"
    }
   ],
   "source": [
    "y.shape"
   ]
  },
  {
   "cell_type": "code",
   "execution_count": 315,
   "id": "1afe2bc3",
   "metadata": {},
   "outputs": [],
   "source": [
    "X_train, X_test, y_train, y_test = train_test_split(X,y, test_size = 0.2)"
   ]
  },
  {
   "cell_type": "code",
   "execution_count": 316,
   "id": "f9738cdb",
   "metadata": {},
   "outputs": [
    {
     "data": {
      "text/plain": [
       "(6818, 35)"
      ]
     },
     "execution_count": 316,
     "metadata": {},
     "output_type": "execute_result"
    }
   ],
   "source": [
    "X_train.shape"
   ]
  },
  {
   "cell_type": "code",
   "execution_count": 317,
   "id": "662f79aa",
   "metadata": {},
   "outputs": [
    {
     "data": {
      "text/plain": [
       "(1705, 35)"
      ]
     },
     "execution_count": 317,
     "metadata": {},
     "output_type": "execute_result"
    }
   ],
   "source": [
    "X_test.shape"
   ]
  },
  {
   "cell_type": "code",
   "execution_count": 319,
   "id": "9d637dd3",
   "metadata": {},
   "outputs": [
    {
     "data": {
      "text/plain": [
       "(6818,)"
      ]
     },
     "execution_count": 319,
     "metadata": {},
     "output_type": "execute_result"
    }
   ],
   "source": [
    "y_train.shape"
   ]
  },
  {
   "cell_type": "code",
   "execution_count": 320,
   "id": "89db103c",
   "metadata": {},
   "outputs": [
    {
     "data": {
      "text/plain": [
       "(1705,)"
      ]
     },
     "execution_count": 320,
     "metadata": {},
     "output_type": "execute_result"
    }
   ],
   "source": [
    "y_test.shape"
   ]
  },
  {
   "cell_type": "code",
   "execution_count": 321,
   "id": "10a26e1c",
   "metadata": {},
   "outputs": [
    {
     "data": {
      "text/plain": [
       "KNeighborsRegressor()"
      ]
     },
     "execution_count": 321,
     "metadata": {},
     "output_type": "execute_result"
    }
   ],
   "source": [
    "model = KNeighborsRegressor()\n",
    "model.fit(X_train, y_train)"
   ]
  },
  {
   "cell_type": "code",
   "execution_count": 322,
   "id": "1921df71",
   "metadata": {},
   "outputs": [
    {
     "data": {
      "text/plain": [
       "array([3163.48212,  857.01776, 4282.02612, 5932.67748,  616.26448])"
      ]
     },
     "execution_count": 322,
     "metadata": {},
     "output_type": "execute_result"
    }
   ],
   "source": [
    "y_pred = model.predict(X_test)\n",
    "y_pred[:5]"
   ]
  },
  {
   "cell_type": "code",
   "execution_count": 323,
   "id": "d151defe",
   "metadata": {},
   "outputs": [
    {
     "data": {
      "text/plain": [
       "0.48024441297573095"
      ]
     },
     "execution_count": 323,
     "metadata": {},
     "output_type": "execute_result"
    }
   ],
   "source": [
    "r2_score(y_test, y_pred)"
   ]
  },
  {
   "cell_type": "code",
   "execution_count": 324,
   "id": "4cd02ac7",
   "metadata": {},
   "outputs": [
    {
     "data": {
      "text/plain": [
       "array([3433.39744,  858.61568, 3564.95952, 1099.36896, 1946.53288])"
      ]
     },
     "execution_count": 324,
     "metadata": {},
     "output_type": "execute_result"
    }
   ],
   "source": [
    "y_pred_train = model.predict(X_train)\n",
    "y_pred_train[:5]"
   ]
  },
  {
   "cell_type": "code",
   "execution_count": 325,
   "id": "3c86173f",
   "metadata": {},
   "outputs": [
    {
     "data": {
      "text/plain": [
       "0.41457097828761"
      ]
     },
     "execution_count": 325,
     "metadata": {},
     "output_type": "execute_result"
    }
   ],
   "source": [
    "r2_score(y_pred_train, y_train)"
   ]
  },
  {
   "cell_type": "code",
   "execution_count": 331,
   "id": "27b05610",
   "metadata": {},
   "outputs": [
    {
     "data": {
      "text/plain": [
       "{'n_neighbors': 13, 'p': 1}"
      ]
     },
     "execution_count": 331,
     "metadata": {},
     "output_type": "execute_result"
    }
   ],
   "source": [
    "param_grid = {'n_neighbors':np.arange(2,21),\n",
    "              'p':np.arange(1,3)\n",
    "}\n",
    "gscv = GridSearchCV(model, param_grid,cv=5)\n",
    "gscv.fit(X_train, y_train)\n",
    "gscv.best_params_"
   ]
  },
  {
   "cell_type": "code",
   "execution_count": 335,
   "id": "ca4af6b7",
   "metadata": {},
   "outputs": [
    {
     "data": {
      "text/plain": [
       "0.5715321902747781"
      ]
     },
     "execution_count": 335,
     "metadata": {},
     "output_type": "execute_result"
    }
   ],
   "source": [
    "model = KNeighborsRegressor(n_neighbors= 13, p= 1)\n",
    "model.fit(X_train,y_train)\n",
    "y_pred = model.predict(X_test)\n",
    "r2_score(y_test, y_pred)"
   ]
  },
  {
   "cell_type": "code",
   "execution_count": 336,
   "id": "93d5842f",
   "metadata": {},
   "outputs": [
    {
     "data": {
      "text/plain": [
       "0.6110734182114799"
      ]
     },
     "execution_count": 336,
     "metadata": {},
     "output_type": "execute_result"
    }
   ],
   "source": [
    "y_pred_train=model.predict(X_train)\n",
    "r2_score(y_train, y_pred_train)"
   ]
  },
  {
   "cell_type": "code",
   "execution_count": 339,
   "id": "0703ab10",
   "metadata": {},
   "outputs": [
    {
     "data": {
      "text/plain": [
       "1219493.2127156185"
      ]
     },
     "execution_count": 339,
     "metadata": {},
     "output_type": "execute_result"
    }
   ],
   "source": [
    "mse = mean_squared_error(y_test, y_pred)\n",
    "mse"
   ]
  },
  {
   "cell_type": "code",
   "execution_count": 340,
   "id": "b2c62dbe",
   "metadata": {},
   "outputs": [
    {
     "data": {
      "text/plain": [
       "1104.3066660650104"
      ]
     },
     "execution_count": 340,
     "metadata": {},
     "output_type": "execute_result"
    }
   ],
   "source": [
    "rmse = np.sqrt(mse)\n",
    "rmse"
   ]
  },
  {
   "cell_type": "code",
   "execution_count": 341,
   "id": "ed897d1a",
   "metadata": {},
   "outputs": [
    {
     "data": {
      "text/plain": [
       "796.0460098263027"
      ]
     },
     "execution_count": 341,
     "metadata": {},
     "output_type": "execute_result"
    }
   ],
   "source": [
    "mae = mean_absolute_error(y_test, y_pred)\n",
    "mae"
   ]
  },
  {
   "cell_type": "code",
   "execution_count": 343,
   "id": "1c44deb4",
   "metadata": {
    "scrolled": true
   },
   "outputs": [
    {
     "data": {
      "text/plain": [
       "0.5715321902747781"
      ]
     },
     "execution_count": 343,
     "metadata": {},
     "output_type": "execute_result"
    }
   ],
   "source": [
    "model.score(X_test, y_test)"
   ]
  },
  {
   "cell_type": "code",
   "execution_count": null,
   "id": "38db20b5",
   "metadata": {},
   "outputs": [],
   "source": []
  }
 ],
 "metadata": {
  "kernelspec": {
   "display_name": "Python 3",
   "language": "python",
   "name": "python3"
  },
  "language_info": {
   "codemirror_mode": {
    "name": "ipython",
    "version": 3
   },
   "file_extension": ".py",
   "mimetype": "text/x-python",
   "name": "python",
   "nbconvert_exporter": "python",
   "pygments_lexer": "ipython3",
   "version": "3.8.8"
  }
 },
 "nbformat": 4,
 "nbformat_minor": 5
}
